{
 "cells": [
  {
   "cell_type": "code",
   "execution_count": 7,
   "id": "initial_id",
   "metadata": {
    "collapsed": true,
    "ExecuteTime": {
     "end_time": "2023-08-02T09:38:40.928877Z",
     "start_time": "2023-08-02T09:38:40.918888Z"
    }
   },
   "outputs": [],
   "source": [
    "import pandas as pd"
   ]
  },
  {
   "cell_type": "code",
   "execution_count": 8,
   "outputs": [],
   "source": [
    "df=pd.read_csv('/Users/colin/Library/Mobile Documents/com~apple~CloudDocs/PycharmProjects/Chat-Analysis/ScrapySpider/playwright_spider/data/user_clean.csv')"
   ],
   "metadata": {
    "collapsed": false,
    "ExecuteTime": {
     "end_time": "2023-08-02T09:38:40.955485Z",
     "start_time": "2023-08-02T09:38:40.924461Z"
    }
   },
   "id": "95862b515de52bc9"
  },
  {
   "cell_type": "code",
   "execution_count": 9,
   "outputs": [
    {
     "data": {
      "text/plain": "      Age                                          AvatarImg  grade name  \\\n43     18  http://cos.duopei.feiniaowangluo.com/9/clerk/1...      1   笙笙   \n53     19  http://cos.duopei.feiniaowangluo.com/9/clerk/1...      1   沁宝   \n154    20  http://cos.duopei.top/92/clerk/1686501750023K9...     30  御猫🔥   \n189    19  http://cos.duopei.feiniaowangluo.com/92/clerk/...     10   甜筒   \n213    18  http://cos.duopei.feiniaowangluo.com/92/clerk/...     10   糖崽   \n...   ...                                                ...    ...  ...   \n2123   19  http://cos.duopei.feiniaowangluo.com/127/clerk...      3   筱咩   \n2157   18  http://cos.duopei.feiniaowangluo.com/127/clerk...      1  炫亿碗   \n2178   99  http://cos.duopei.feiniaowangluo.com/127/clerk...      1   小嘉   \n2191   22  http://cos.duopei.feiniaowangluo.com/127/clerk...      1   桃苝   \n2260   20  http://cos.duopei.feiniaowangluo.com/127/clerk...      1   莞儿   \n\n      online_status Position Profile                                tag  \\\n43                1        0       0  反差甜妹（秒回|游戏陪玩|话痨可御可萝|吉他唱歌（下单送歌|舞蹈生   \n53                1        0       0             反差甜妹🍭|超有耐心|少御音／萝莉音|小话唠   \n154               0        0       0    温柔知性💕|性感小野猫✨|女大学生|又乖又坏🔥|御姐萝莉双修💕   \n189               0        0       0                  温柔萝莉|纯爱|单身可撩|情绪稳定   \n213               0        0       0       你深夜的归属|御萝双修|心事垃圾桶|恋爱脑袋|游戏专业陪   \n...             ...      ...     ...                                ...   \n2123              1       江苏       0       纯情女大|御萝双休|反差小羊|超会唱歌|带只懒羊羊回家吧   \n2157              1       四川       0               搞笑女♀|活泼主动|情绪开导者|萝御双修   \n2178              1       福建       0            御姐脸萝莉音|夹子|搞笑女|恋爱脑|小嘉爱你～   \n2191              1       江苏       0               及时行乐|爱情游戏学会入戏|御姐身萝莉心   \n2260              0       福建       0               萝御切换～|反差|温柔大姐姐|172.5   \n\n                                              audio_url company  \\\n43    http://cos.duopei.feiniaowangluo.com/9/clerk/1...  天空猫的树洞   \n53    http://cos.duopei.feiniaowangluo.com/9/clerk/1...  天空猫的树洞   \n154   http://cos.duopei.top/92/clerk/1688068448589GO...    糖恋树洞   \n189   http://cos.duopei.feiniaowangluo.com/92/clerk/...    糖恋树洞   \n213   http://cos.duopei.feiniaowangluo.com/92/clerk/...    糖恋树洞   \n...                                                 ...     ...   \n2123  http://cos.duopei.feiniaowangluo.com/127/clerk...     找陪陪   \n2157  http://cos.duopei.feiniaowangluo.com/127/clerk...     找陪陪   \n2178  http://cos.duopei.feiniaowangluo.com/127/clerk...     找陪陪   \n2191  http://cos.duopei.feiniaowangluo.com/127/clerk...     找陪陪   \n2260  http://cos.duopei.feiniaowangluo.com/127/clerk...     找陪陪   \n\n               crawl_date         crawl_date_2  grade.1  \\\n43    2023-08-01 20:09:58  2023-08-01 12:09:42        1   \n53    2023-08-01 20:10:02  2023-08-01 12:09:42        1   \n154   2023-08-01 20:09:54  2023-08-01 12:09:45       30   \n189   2023-08-01 20:10:13  2023-08-01 12:09:45       10   \n213   2023-08-01 20:10:25  2023-08-01 12:09:45       10   \n...                   ...                  ...      ...   \n2123  2023-08-01 22:22:57  2023-08-01 14:22:49        3   \n2157  2023-08-01 22:23:16  2023-08-01 14:22:49        1   \n2178  2023-08-01 22:23:28  2023-08-01 14:22:49        1   \n2191  2023-08-01 22:23:36  2023-08-01 14:22:49        1   \n2260  2023-08-01 22:24:16  2023-08-01 14:22:49        1   \n\n                                               homepage  online_status.1  \\\n43    http://oxxs5iqzqz.duopei-m.manongnet.cn/clerk/...                1   \n53    http://oxxs5iqzqz.duopei-m.manongnet.cn/clerk/...                1   \n154   http://tj5uhmrpeq.duopei-m.featnet.com/clerk/d...                0   \n189   http://tj5uhmrpeq.duopei-m.featnet.com/clerk/d...                0   \n213   http://tj5uhmrpeq.duopei-m.featnet.com/clerk/d...                0   \n...                                                 ...              ...   \n2123  http://yj5igug8wx.duopei-m.manongnet.cn/clerk/...                1   \n2157  http://yj5igug8wx.duopei-m.manongnet.cn/clerk/...                1   \n2178  http://yj5igug8wx.duopei-m.manongnet.cn/clerk/...                1   \n2191  http://yj5igug8wx.duopei-m.manongnet.cn/clerk/...                1   \n2260  http://yj5igug8wx.duopei-m.manongnet.cn/clerk/...                0   \n\n      rank  rank_2                                  website  \n43      43      43  http://oxxs5iqzqz.duopei-m.manongnet.cn  \n53      53      53  http://oxxs5iqzqz.duopei-m.manongnet.cn  \n154     18      18   http://tj5uhmrpeq.duopei-m.featnet.com  \n189     53      53   http://tj5uhmrpeq.duopei-m.featnet.com  \n213     77      77   http://tj5uhmrpeq.duopei-m.featnet.com  \n...    ...     ...                                      ...  \n2123    14      14  http://yj5igug8wx.duopei-m.manongnet.cn  \n2157    48      48  http://yj5igug8wx.duopei-m.manongnet.cn  \n2178    69      69  http://yj5igug8wx.duopei-m.manongnet.cn  \n2191    82      82  http://yj5igug8wx.duopei-m.manongnet.cn  \n2260   151     151  http://yj5igug8wx.duopei-m.manongnet.cn  \n\n[67 rows x 18 columns]",
      "text/html": "<div>\n<style scoped>\n    .dataframe tbody tr th:only-of-type {\n        vertical-align: middle;\n    }\n\n    .dataframe tbody tr th {\n        vertical-align: top;\n    }\n\n    .dataframe thead th {\n        text-align: right;\n    }\n</style>\n<table border=\"1\" class=\"dataframe\">\n  <thead>\n    <tr style=\"text-align: right;\">\n      <th></th>\n      <th>Age</th>\n      <th>AvatarImg</th>\n      <th>grade</th>\n      <th>name</th>\n      <th>online_status</th>\n      <th>Position</th>\n      <th>Profile</th>\n      <th>tag</th>\n      <th>audio_url</th>\n      <th>company</th>\n      <th>crawl_date</th>\n      <th>crawl_date_2</th>\n      <th>grade.1</th>\n      <th>homepage</th>\n      <th>online_status.1</th>\n      <th>rank</th>\n      <th>rank_2</th>\n      <th>website</th>\n    </tr>\n  </thead>\n  <tbody>\n    <tr>\n      <th>43</th>\n      <td>18</td>\n      <td>http://cos.duopei.feiniaowangluo.com/9/clerk/1...</td>\n      <td>1</td>\n      <td>笙笙</td>\n      <td>1</td>\n      <td>0</td>\n      <td>0</td>\n      <td>反差甜妹（秒回|游戏陪玩|话痨可御可萝|吉他唱歌（下单送歌|舞蹈生</td>\n      <td>http://cos.duopei.feiniaowangluo.com/9/clerk/1...</td>\n      <td>天空猫的树洞</td>\n      <td>2023-08-01 20:09:58</td>\n      <td>2023-08-01 12:09:42</td>\n      <td>1</td>\n      <td>http://oxxs5iqzqz.duopei-m.manongnet.cn/clerk/...</td>\n      <td>1</td>\n      <td>43</td>\n      <td>43</td>\n      <td>http://oxxs5iqzqz.duopei-m.manongnet.cn</td>\n    </tr>\n    <tr>\n      <th>53</th>\n      <td>19</td>\n      <td>http://cos.duopei.feiniaowangluo.com/9/clerk/1...</td>\n      <td>1</td>\n      <td>沁宝</td>\n      <td>1</td>\n      <td>0</td>\n      <td>0</td>\n      <td>反差甜妹🍭|超有耐心|少御音／萝莉音|小话唠</td>\n      <td>http://cos.duopei.feiniaowangluo.com/9/clerk/1...</td>\n      <td>天空猫的树洞</td>\n      <td>2023-08-01 20:10:02</td>\n      <td>2023-08-01 12:09:42</td>\n      <td>1</td>\n      <td>http://oxxs5iqzqz.duopei-m.manongnet.cn/clerk/...</td>\n      <td>1</td>\n      <td>53</td>\n      <td>53</td>\n      <td>http://oxxs5iqzqz.duopei-m.manongnet.cn</td>\n    </tr>\n    <tr>\n      <th>154</th>\n      <td>20</td>\n      <td>http://cos.duopei.top/92/clerk/1686501750023K9...</td>\n      <td>30</td>\n      <td>御猫🔥</td>\n      <td>0</td>\n      <td>0</td>\n      <td>0</td>\n      <td>温柔知性💕|性感小野猫✨|女大学生|又乖又坏🔥|御姐萝莉双修💕</td>\n      <td>http://cos.duopei.top/92/clerk/1688068448589GO...</td>\n      <td>糖恋树洞</td>\n      <td>2023-08-01 20:09:54</td>\n      <td>2023-08-01 12:09:45</td>\n      <td>30</td>\n      <td>http://tj5uhmrpeq.duopei-m.featnet.com/clerk/d...</td>\n      <td>0</td>\n      <td>18</td>\n      <td>18</td>\n      <td>http://tj5uhmrpeq.duopei-m.featnet.com</td>\n    </tr>\n    <tr>\n      <th>189</th>\n      <td>19</td>\n      <td>http://cos.duopei.feiniaowangluo.com/92/clerk/...</td>\n      <td>10</td>\n      <td>甜筒</td>\n      <td>0</td>\n      <td>0</td>\n      <td>0</td>\n      <td>温柔萝莉|纯爱|单身可撩|情绪稳定</td>\n      <td>http://cos.duopei.feiniaowangluo.com/92/clerk/...</td>\n      <td>糖恋树洞</td>\n      <td>2023-08-01 20:10:13</td>\n      <td>2023-08-01 12:09:45</td>\n      <td>10</td>\n      <td>http://tj5uhmrpeq.duopei-m.featnet.com/clerk/d...</td>\n      <td>0</td>\n      <td>53</td>\n      <td>53</td>\n      <td>http://tj5uhmrpeq.duopei-m.featnet.com</td>\n    </tr>\n    <tr>\n      <th>213</th>\n      <td>18</td>\n      <td>http://cos.duopei.feiniaowangluo.com/92/clerk/...</td>\n      <td>10</td>\n      <td>糖崽</td>\n      <td>0</td>\n      <td>0</td>\n      <td>0</td>\n      <td>你深夜的归属|御萝双修|心事垃圾桶|恋爱脑袋|游戏专业陪</td>\n      <td>http://cos.duopei.feiniaowangluo.com/92/clerk/...</td>\n      <td>糖恋树洞</td>\n      <td>2023-08-01 20:10:25</td>\n      <td>2023-08-01 12:09:45</td>\n      <td>10</td>\n      <td>http://tj5uhmrpeq.duopei-m.featnet.com/clerk/d...</td>\n      <td>0</td>\n      <td>77</td>\n      <td>77</td>\n      <td>http://tj5uhmrpeq.duopei-m.featnet.com</td>\n    </tr>\n    <tr>\n      <th>...</th>\n      <td>...</td>\n      <td>...</td>\n      <td>...</td>\n      <td>...</td>\n      <td>...</td>\n      <td>...</td>\n      <td>...</td>\n      <td>...</td>\n      <td>...</td>\n      <td>...</td>\n      <td>...</td>\n      <td>...</td>\n      <td>...</td>\n      <td>...</td>\n      <td>...</td>\n      <td>...</td>\n      <td>...</td>\n      <td>...</td>\n    </tr>\n    <tr>\n      <th>2123</th>\n      <td>19</td>\n      <td>http://cos.duopei.feiniaowangluo.com/127/clerk...</td>\n      <td>3</td>\n      <td>筱咩</td>\n      <td>1</td>\n      <td>江苏</td>\n      <td>0</td>\n      <td>纯情女大|御萝双休|反差小羊|超会唱歌|带只懒羊羊回家吧</td>\n      <td>http://cos.duopei.feiniaowangluo.com/127/clerk...</td>\n      <td>找陪陪</td>\n      <td>2023-08-01 22:22:57</td>\n      <td>2023-08-01 14:22:49</td>\n      <td>3</td>\n      <td>http://yj5igug8wx.duopei-m.manongnet.cn/clerk/...</td>\n      <td>1</td>\n      <td>14</td>\n      <td>14</td>\n      <td>http://yj5igug8wx.duopei-m.manongnet.cn</td>\n    </tr>\n    <tr>\n      <th>2157</th>\n      <td>18</td>\n      <td>http://cos.duopei.feiniaowangluo.com/127/clerk...</td>\n      <td>1</td>\n      <td>炫亿碗</td>\n      <td>1</td>\n      <td>四川</td>\n      <td>0</td>\n      <td>搞笑女♀|活泼主动|情绪开导者|萝御双修</td>\n      <td>http://cos.duopei.feiniaowangluo.com/127/clerk...</td>\n      <td>找陪陪</td>\n      <td>2023-08-01 22:23:16</td>\n      <td>2023-08-01 14:22:49</td>\n      <td>1</td>\n      <td>http://yj5igug8wx.duopei-m.manongnet.cn/clerk/...</td>\n      <td>1</td>\n      <td>48</td>\n      <td>48</td>\n      <td>http://yj5igug8wx.duopei-m.manongnet.cn</td>\n    </tr>\n    <tr>\n      <th>2178</th>\n      <td>99</td>\n      <td>http://cos.duopei.feiniaowangluo.com/127/clerk...</td>\n      <td>1</td>\n      <td>小嘉</td>\n      <td>1</td>\n      <td>福建</td>\n      <td>0</td>\n      <td>御姐脸萝莉音|夹子|搞笑女|恋爱脑|小嘉爱你～</td>\n      <td>http://cos.duopei.feiniaowangluo.com/127/clerk...</td>\n      <td>找陪陪</td>\n      <td>2023-08-01 22:23:28</td>\n      <td>2023-08-01 14:22:49</td>\n      <td>1</td>\n      <td>http://yj5igug8wx.duopei-m.manongnet.cn/clerk/...</td>\n      <td>1</td>\n      <td>69</td>\n      <td>69</td>\n      <td>http://yj5igug8wx.duopei-m.manongnet.cn</td>\n    </tr>\n    <tr>\n      <th>2191</th>\n      <td>22</td>\n      <td>http://cos.duopei.feiniaowangluo.com/127/clerk...</td>\n      <td>1</td>\n      <td>桃苝</td>\n      <td>1</td>\n      <td>江苏</td>\n      <td>0</td>\n      <td>及时行乐|爱情游戏学会入戏|御姐身萝莉心</td>\n      <td>http://cos.duopei.feiniaowangluo.com/127/clerk...</td>\n      <td>找陪陪</td>\n      <td>2023-08-01 22:23:36</td>\n      <td>2023-08-01 14:22:49</td>\n      <td>1</td>\n      <td>http://yj5igug8wx.duopei-m.manongnet.cn/clerk/...</td>\n      <td>1</td>\n      <td>82</td>\n      <td>82</td>\n      <td>http://yj5igug8wx.duopei-m.manongnet.cn</td>\n    </tr>\n    <tr>\n      <th>2260</th>\n      <td>20</td>\n      <td>http://cos.duopei.feiniaowangluo.com/127/clerk...</td>\n      <td>1</td>\n      <td>莞儿</td>\n      <td>0</td>\n      <td>福建</td>\n      <td>0</td>\n      <td>萝御切换～|反差|温柔大姐姐|172.5</td>\n      <td>http://cos.duopei.feiniaowangluo.com/127/clerk...</td>\n      <td>找陪陪</td>\n      <td>2023-08-01 22:24:16</td>\n      <td>2023-08-01 14:22:49</td>\n      <td>1</td>\n      <td>http://yj5igug8wx.duopei-m.manongnet.cn/clerk/...</td>\n      <td>0</td>\n      <td>151</td>\n      <td>151</td>\n      <td>http://yj5igug8wx.duopei-m.manongnet.cn</td>\n    </tr>\n  </tbody>\n</table>\n<p>67 rows × 18 columns</p>\n</div>"
     },
     "execution_count": 9,
     "metadata": {},
     "output_type": "execute_result"
    }
   ],
   "source": [
    "# 假设你有一个 DataFrame df，包含需要查找的文本\n",
    "target_string = '萝'\n",
    "\n",
    "# 指定需要查找的列\n",
    "columns_to_search = ['name', 'Profile', 'tag']\n",
    "\n",
    "# 使用 apply 和 str.contains 来对指定列进行查找\n",
    "result_df = df[df[columns_to_search].apply(lambda col: col.astype(str).str.contains(target_string, na=False)).any(axis=1)]\n",
    "result_df"
   ],
   "metadata": {
    "collapsed": false,
    "ExecuteTime": {
     "end_time": "2023-08-02T09:38:40.974615Z",
     "start_time": "2023-08-02T09:38:40.969993Z"
    }
   },
   "id": "11e335d3fbcafe6e"
  },
  {
   "cell_type": "code",
   "execution_count": 10,
   "outputs": [
    {
     "data": {
      "text/plain": "array(['天空猫的树洞', '糖恋树洞', '橘色灯罩', '清欢树洞', '夏日小野猫', '耳边蜜语', '时光恋人', '花语树洞',\n       '惊鸿之恋', '找陪陪'], dtype=object)"
     },
     "execution_count": 10,
     "metadata": {},
     "output_type": "execute_result"
    }
   ],
   "source": [
    "result_df.company.unique()"
   ],
   "metadata": {
    "collapsed": false,
    "ExecuteTime": {
     "end_time": "2023-08-02T09:38:40.984669Z",
     "start_time": "2023-08-02T09:38:40.974205Z"
    }
   },
   "id": "fdb7bdf4e0ff1bf1"
  },
  {
   "cell_type": "code",
   "execution_count": 10,
   "outputs": [],
   "source": [],
   "metadata": {
    "collapsed": false,
    "ExecuteTime": {
     "end_time": "2023-08-02T09:38:40.986306Z",
     "start_time": "2023-08-02T09:38:40.978213Z"
    }
   },
   "id": "e359c2005593dbd5"
  }
 ],
 "metadata": {
  "kernelspec": {
   "display_name": "Python 3",
   "language": "python",
   "name": "python3"
  },
  "language_info": {
   "codemirror_mode": {
    "name": "ipython",
    "version": 2
   },
   "file_extension": ".py",
   "mimetype": "text/x-python",
   "name": "python",
   "nbconvert_exporter": "python",
   "pygments_lexer": "ipython2",
   "version": "2.7.6"
  }
 },
 "nbformat": 4,
 "nbformat_minor": 5
}
