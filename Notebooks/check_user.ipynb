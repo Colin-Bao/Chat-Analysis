{
 "cells": [
  {
   "cell_type": "code",
   "execution_count": 5,
   "id": "initial_id",
   "metadata": {
    "collapsed": true,
    "ExecuteTime": {
     "end_time": "2023-08-03T03:24:35.094784Z",
     "start_time": "2023-08-03T03:24:35.083152Z"
    }
   },
   "outputs": [],
   "source": [
    "import pandas as pd"
   ]
  },
  {
   "cell_type": "code",
   "execution_count": 6,
   "outputs": [],
   "source": [
    "df=pd.read_csv('/Users/colin/Library/Mobile Documents/com~apple~CloudDocs/PycharmProjects/Chat-Analysis/ScrapySpider/playwright_spider/data/user_clean.csv')"
   ],
   "metadata": {
    "collapsed": false,
    "ExecuteTime": {
     "end_time": "2023-08-03T03:24:35.104198Z",
     "start_time": "2023-08-03T03:24:35.089970Z"
    }
   },
   "id": "95862b515de52bc9"
  },
  {
   "cell_type": "code",
   "execution_count": 7,
   "outputs": [
    {
     "data": {
      "text/plain": "    Age                                          AvatarImg          grade  \\\n29   24  http://cos.duopei.top/1199/clerk/1686373782018...  1688467984300   \n66   18  http://cos.duopei.feiniaowangluo.com/119/clerk...              6   \n\n        name  online_status Position Profile                      tag  \\\n29        小七              0       湖北       0    轻撩慢抚|萝御双修|你的夜间甜点|深夜限定   \n66  姜丝丝💞阿昕专属              1       广东       0  撒娇的猫|brat|懂情趣|少萝音|虚恋天花板   \n\n                                            audio_url company  \\\n29  http://cos.duopei.top/1199/clerk/1686373883712...    柠檬恋人   \n66  http://cos.duopei.feiniaowangluo.com/119/clerk...    惊鸿之恋   \n\n             crawl_date         crawl_date_2        grade.1  \\\n29  2023-08-03 11:21:37  2023-08-03 03:21:35  1688467984300   \n66  2023-08-03 11:22:33  2023-08-03 03:22:33              6   \n\n                                             homepage  online_status.1  rank  \\\n29  http://bisevslwz1.duopei-m.manongnet.cn/clerk/...                0     4   \n66  http://t3emfwrung.duopei-m.manongnet.cn/clerk/...                1     1   \n\n    rank_2                                  website  \n29       4  http://bisevslwz1.duopei-m.manongnet.cn  \n66       1  http://t3emfwrung.duopei-m.manongnet.cn  ",
      "text/html": "<div>\n<style scoped>\n    .dataframe tbody tr th:only-of-type {\n        vertical-align: middle;\n    }\n\n    .dataframe tbody tr th {\n        vertical-align: top;\n    }\n\n    .dataframe thead th {\n        text-align: right;\n    }\n</style>\n<table border=\"1\" class=\"dataframe\">\n  <thead>\n    <tr style=\"text-align: right;\">\n      <th></th>\n      <th>Age</th>\n      <th>AvatarImg</th>\n      <th>grade</th>\n      <th>name</th>\n      <th>online_status</th>\n      <th>Position</th>\n      <th>Profile</th>\n      <th>tag</th>\n      <th>audio_url</th>\n      <th>company</th>\n      <th>crawl_date</th>\n      <th>crawl_date_2</th>\n      <th>grade.1</th>\n      <th>homepage</th>\n      <th>online_status.1</th>\n      <th>rank</th>\n      <th>rank_2</th>\n      <th>website</th>\n    </tr>\n  </thead>\n  <tbody>\n    <tr>\n      <th>29</th>\n      <td>24</td>\n      <td>http://cos.duopei.top/1199/clerk/1686373782018...</td>\n      <td>1688467984300</td>\n      <td>小七</td>\n      <td>0</td>\n      <td>湖北</td>\n      <td>0</td>\n      <td>轻撩慢抚|萝御双修|你的夜间甜点|深夜限定</td>\n      <td>http://cos.duopei.top/1199/clerk/1686373883712...</td>\n      <td>柠檬恋人</td>\n      <td>2023-08-03 11:21:37</td>\n      <td>2023-08-03 03:21:35</td>\n      <td>1688467984300</td>\n      <td>http://bisevslwz1.duopei-m.manongnet.cn/clerk/...</td>\n      <td>0</td>\n      <td>4</td>\n      <td>4</td>\n      <td>http://bisevslwz1.duopei-m.manongnet.cn</td>\n    </tr>\n    <tr>\n      <th>66</th>\n      <td>18</td>\n      <td>http://cos.duopei.feiniaowangluo.com/119/clerk...</td>\n      <td>6</td>\n      <td>姜丝丝💞阿昕专属</td>\n      <td>1</td>\n      <td>广东</td>\n      <td>0</td>\n      <td>撒娇的猫|brat|懂情趣|少萝音|虚恋天花板</td>\n      <td>http://cos.duopei.feiniaowangluo.com/119/clerk...</td>\n      <td>惊鸿之恋</td>\n      <td>2023-08-03 11:22:33</td>\n      <td>2023-08-03 03:22:33</td>\n      <td>6</td>\n      <td>http://t3emfwrung.duopei-m.manongnet.cn/clerk/...</td>\n      <td>1</td>\n      <td>1</td>\n      <td>1</td>\n      <td>http://t3emfwrung.duopei-m.manongnet.cn</td>\n    </tr>\n  </tbody>\n</table>\n</div>"
     },
     "execution_count": 7,
     "metadata": {},
     "output_type": "execute_result"
    }
   ],
   "source": [
    "# 假设你有一个 DataFrame df，包含需要查找的文本\n",
    "target_string = '萝'\n",
    "\n",
    "# 指定需要查找的列\n",
    "columns_to_search = ['name', 'Profile', 'tag']\n",
    "\n",
    "# 使用 apply 和 str.contains 来对指定列进行查找\n",
    "result_df = df[df[columns_to_search].apply(lambda col: col.astype(str).str.contains(target_string, na=False)).any(axis=1)]\n",
    "result_df"
   ],
   "metadata": {
    "collapsed": false,
    "ExecuteTime": {
     "end_time": "2023-08-03T03:24:35.112914Z",
     "start_time": "2023-08-03T03:24:35.097407Z"
    }
   },
   "id": "11e335d3fbcafe6e"
  },
  {
   "cell_type": "code",
   "execution_count": 9,
   "outputs": [
    {
     "data": {
      "text/plain": "array(['天空猫的树洞', '糖恋树洞', '橘色灯罩', '清欢树洞', '今天喝酸奶', '柠檬恋人', '夏日小野猫', '耳边蜜语',\n       '灯火阑珊处', '知心树洞', '向往之恋', '微微树洞', '花语树洞', '惊鸿之恋', '找陪陪', '三厘米的雾',\n       '温酒小镇', '暖聊小镇', '青筏树洞'], dtype=object)"
     },
     "execution_count": 9,
     "metadata": {},
     "output_type": "execute_result"
    }
   ],
   "source": [
    "df.company.unique()"
   ],
   "metadata": {
    "collapsed": false,
    "ExecuteTime": {
     "end_time": "2023-08-03T03:24:39.593478Z",
     "start_time": "2023-08-03T03:24:39.588565Z"
    }
   },
   "id": "fdb7bdf4e0ff1bf1"
  },
  {
   "cell_type": "code",
   "execution_count": 8,
   "outputs": [],
   "source": [],
   "metadata": {
    "collapsed": false,
    "ExecuteTime": {
     "end_time": "2023-08-03T03:24:35.119433Z",
     "start_time": "2023-08-03T03:24:35.116277Z"
    }
   },
   "id": "e359c2005593dbd5"
  }
 ],
 "metadata": {
  "kernelspec": {
   "display_name": "Python 3",
   "language": "python",
   "name": "python3"
  },
  "language_info": {
   "codemirror_mode": {
    "name": "ipython",
    "version": 2
   },
   "file_extension": ".py",
   "mimetype": "text/x-python",
   "name": "python",
   "nbconvert_exporter": "python",
   "pygments_lexer": "ipython2",
   "version": "2.7.6"
  }
 },
 "nbformat": 4,
 "nbformat_minor": 5
}
