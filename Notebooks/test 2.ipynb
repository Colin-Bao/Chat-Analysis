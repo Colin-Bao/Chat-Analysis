{
 "cells": [
  {
   "cell_type": "code",
   "execution_count": 1,
   "metadata": {
    "collapsed": true,
    "ExecuteTime": {
     "start_time": "2023-06-11T20:41:45.705632Z",
     "end_time": "2023-06-11T20:41:47.166161Z"
    }
   },
   "outputs": [],
   "source": [
    "import pandas as pd\n"
   ]
  },
  {
   "cell_type": "code",
   "execution_count": 4,
   "outputs": [
    {
     "data": {
      "text/plain": "      Name   Sex  Age  Online  Grade  Rank  Text  Call  Video   Game  \\\nindex                                                                  \n139    小甜酒  True   18   False     20   140  True  True   True   True   \n89      香香  True   20    True     10    90  True  True   True   True   \n86      御绾  True   24    True     10    87  True  True   True   True   \n111     小鱼  True   19    True     10   112  True  True   True  False   \n\n                            Date  \nindex                             \n139   2023-06-11 20:02:37.041846  \n89    2023-06-11 20:26:37.273839  \n86    2023-06-11 20:30:09.528374  \n111   2023-06-11 20:40:11.392775  ",
      "text/html": "<div>\n<style scoped>\n    .dataframe tbody tr th:only-of-type {\n        vertical-align: middle;\n    }\n\n    .dataframe tbody tr th {\n        vertical-align: top;\n    }\n\n    .dataframe thead th {\n        text-align: right;\n    }\n</style>\n<table border=\"1\" class=\"dataframe\">\n  <thead>\n    <tr style=\"text-align: right;\">\n      <th></th>\n      <th>Name</th>\n      <th>Sex</th>\n      <th>Age</th>\n      <th>Online</th>\n      <th>Grade</th>\n      <th>Rank</th>\n      <th>Text</th>\n      <th>Call</th>\n      <th>Video</th>\n      <th>Game</th>\n      <th>Date</th>\n    </tr>\n    <tr>\n      <th>index</th>\n      <th></th>\n      <th></th>\n      <th></th>\n      <th></th>\n      <th></th>\n      <th></th>\n      <th></th>\n      <th></th>\n      <th></th>\n      <th></th>\n      <th></th>\n    </tr>\n  </thead>\n  <tbody>\n    <tr>\n      <th>139</th>\n      <td>小甜酒</td>\n      <td>True</td>\n      <td>18</td>\n      <td>False</td>\n      <td>20</td>\n      <td>140</td>\n      <td>True</td>\n      <td>True</td>\n      <td>True</td>\n      <td>True</td>\n      <td>2023-06-11 20:02:37.041846</td>\n    </tr>\n    <tr>\n      <th>89</th>\n      <td>香香</td>\n      <td>True</td>\n      <td>20</td>\n      <td>True</td>\n      <td>10</td>\n      <td>90</td>\n      <td>True</td>\n      <td>True</td>\n      <td>True</td>\n      <td>True</td>\n      <td>2023-06-11 20:26:37.273839</td>\n    </tr>\n    <tr>\n      <th>86</th>\n      <td>御绾</td>\n      <td>True</td>\n      <td>24</td>\n      <td>True</td>\n      <td>10</td>\n      <td>87</td>\n      <td>True</td>\n      <td>True</td>\n      <td>True</td>\n      <td>True</td>\n      <td>2023-06-11 20:30:09.528374</td>\n    </tr>\n    <tr>\n      <th>111</th>\n      <td>小鱼</td>\n      <td>True</td>\n      <td>19</td>\n      <td>True</td>\n      <td>10</td>\n      <td>112</td>\n      <td>True</td>\n      <td>True</td>\n      <td>True</td>\n      <td>False</td>\n      <td>2023-06-11 20:40:11.392775</td>\n    </tr>\n  </tbody>\n</table>\n</div>"
     },
     "execution_count": 4,
     "metadata": {},
     "output_type": "execute_result"
    }
   ],
   "source": [
    "df_all = pd.read_parquet('/Users/colin/Library/Mobile Documents/com~apple~CloudDocs/PycharmProjects/pythonProject/backups/user-add-pp')\n",
    "df_all"
   ],
   "metadata": {
    "collapsed": false,
    "ExecuteTime": {
     "start_time": "2023-06-11T20:41:52.869528Z",
     "end_time": "2023-06-11T20:41:52.959921Z"
    }
   }
  },
  {
   "cell_type": "code",
   "execution_count": 3,
   "outputs": [
    {
     "data": {
      "text/plain": "Name            category\nSex                 bool\nAge                uint8\nOnline              bool\nGrade              uint8\nRank              uint16\nText                bool\nCall                bool\nVideo               bool\nGame                bool\nDate      datetime64[ns]\ndtype: object"
     },
     "execution_count": 3,
     "metadata": {},
     "output_type": "execute_result"
    }
   ],
   "source": [
    "df_all.dtypes"
   ],
   "metadata": {
    "collapsed": false,
    "ExecuteTime": {
     "start_time": "2023-06-11T20:41:47.292221Z",
     "end_time": "2023-06-11T20:41:47.322461Z"
    }
   }
  },
  {
   "cell_type": "code",
   "execution_count": 3,
   "outputs": [],
   "source": [],
   "metadata": {
    "collapsed": false,
    "ExecuteTime": {
     "start_time": "2023-06-11T20:41:47.313086Z",
     "end_time": "2023-06-11T20:41:47.323734Z"
    }
   }
  }
 ],
 "metadata": {
  "kernelspec": {
   "display_name": "Python 3",
   "language": "python",
   "name": "python3"
  },
  "language_info": {
   "codemirror_mode": {
    "name": "ipython",
    "version": 2
   },
   "file_extension": ".py",
   "mimetype": "text/x-python",
   "name": "python",
   "nbconvert_exporter": "python",
   "pygments_lexer": "ipython2",
   "version": "2.7.6"
  }
 },
 "nbformat": 4,
 "nbformat_minor": 0
}
