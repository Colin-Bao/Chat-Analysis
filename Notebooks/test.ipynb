{
 "cells": [
  {
   "cell_type": "code",
   "execution_count": 1,
   "metadata": {
    "collapsed": true,
    "ExecuteTime": {
     "end_time": "2023-07-03T11:06:55.593342Z",
     "start_time": "2023-07-03T11:06:55.133175Z"
    }
   },
   "outputs": [],
   "source": [
    "import sys\n",
    "\n",
    "# https://chat.openai.com/share/1239b5ad-fdbc-406f-8566-6d10f1b1b10c\n",
    "sys.path.append('/home/ubuntu/PycharmProjects/Chat-Analysis')\n",
    "sys.path.append('/home/ubuntu/PycharmProjects/Chat-Analysis/DuopeiSpider')\n",
    "from DuopeiSpider.Utils import setting as cf\n",
    "import pandas as pd\n",
    "import numpy as np"
   ]
  },
  {
   "cell_type": "code",
   "execution_count": 2,
   "outputs": [
    {
     "data": {
      "text/plain": "        Name  Age                           SexImg         Online  \\\n0         迟早   18  /static/images/25/sex2-icon.png  ●在线●语音连麦●游戏陪玩   \n1          㫪   24  /static/images/25/sex1-icon.png  ●在线●语音连麦●游戏陪玩   \n2         黎泽   21  /static/images/25/sex1-icon.png       ●在线●语音连麦   \n3        甜甜圈   99  /static/images/25/sex2-icon.png  ●在线●语音连麦●游戏陪玩   \n4       沈娇娇💋  100  /static/images/25/sex2-icon.png  ●在线●语音连麦●游戏陪玩   \n...      ...  ...                              ...            ...   \n106465    叶叶   20  /static/images/25/sex2-icon.png     ●离线 + 客服预约   \n106466   北北北   20  /static/images/25/sex2-icon.png     ●离线 + 客服预约   \n106467    有鹤   22  /static/images/25/sex1-icon.png     ●离线 + 客服预约   \n106468    萝卜   19  /static/images/25/sex2-icon.png     ●离线 + 客服预约   \n106469   上山鹤   26  /static/images/25/sex2-icon.png     ●离线 + 客服预约   \n\n                        GradeImg        Service                       Date  \\\n0       /static/images/105/4.png  ●在线●语音连麦●游戏陪玩 2023-07-03 15:31:53.485591   \n1       /static/images/105/4.png  ●在线●语音连麦●游戏陪玩 2023-07-03 15:31:53.485591   \n2       /static/images/105/3.png       ●在线●语音连麦 2023-07-03 15:31:53.485591   \n3       /static/images/105/3.png  ●在线●语音连麦●游戏陪玩 2023-07-03 15:31:53.485591   \n4       /static/images/105/3.png  ●在线●语音连麦●游戏陪玩 2023-07-03 15:31:53.485591   \n...                          ...            ...                        ...   \n106465  /static/images/105/1.png     ●离线 + 客服预约 2023-07-03 19:06:41.502132   \n106466  /static/images/105/1.png     ●离线 + 客服预约 2023-07-03 19:06:41.502132   \n106467  /static/images/105/1.png     ●离线 + 客服预约 2023-07-03 19:06:41.502132   \n106468  /static/images/105/1.png     ●离线 + 客服预约 2023-07-03 19:06:41.502132   \n106469  /static/images/105/1.png     ●离线 + 客服预约 2023-07-03 19:06:41.502132   \n\n        Rank                                   Source  \n0          0  http://fhpkn3rf85.duopei-m.manongnet.cn  \n1          1  http://fhpkn3rf85.duopei-m.manongnet.cn  \n2          2  http://fhpkn3rf85.duopei-m.manongnet.cn  \n3          3  http://fhpkn3rf85.duopei-m.manongnet.cn  \n4          4  http://fhpkn3rf85.duopei-m.manongnet.cn  \n...      ...                                      ...  \n106465   282  http://fhpkn3rf85.duopei-m.manongnet.cn  \n106466   283  http://fhpkn3rf85.duopei-m.manongnet.cn  \n106467   284  http://fhpkn3rf85.duopei-m.manongnet.cn  \n106468   285  http://fhpkn3rf85.duopei-m.manongnet.cn  \n106469   286  http://fhpkn3rf85.duopei-m.manongnet.cn  \n\n[106470 rows x 9 columns]",
      "text/html": "<div>\n<style scoped>\n    .dataframe tbody tr th:only-of-type {\n        vertical-align: middle;\n    }\n\n    .dataframe tbody tr th {\n        vertical-align: top;\n    }\n\n    .dataframe thead th {\n        text-align: right;\n    }\n</style>\n<table border=\"1\" class=\"dataframe\">\n  <thead>\n    <tr style=\"text-align: right;\">\n      <th></th>\n      <th>Name</th>\n      <th>Age</th>\n      <th>SexImg</th>\n      <th>Online</th>\n      <th>GradeImg</th>\n      <th>Service</th>\n      <th>Date</th>\n      <th>Rank</th>\n      <th>Source</th>\n    </tr>\n  </thead>\n  <tbody>\n    <tr>\n      <th>0</th>\n      <td>迟早</td>\n      <td>18</td>\n      <td>/static/images/25/sex2-icon.png</td>\n      <td>●在线●语音连麦●游戏陪玩</td>\n      <td>/static/images/105/4.png</td>\n      <td>●在线●语音连麦●游戏陪玩</td>\n      <td>2023-07-03 15:31:53.485591</td>\n      <td>0</td>\n      <td>http://fhpkn3rf85.duopei-m.manongnet.cn</td>\n    </tr>\n    <tr>\n      <th>1</th>\n      <td>㫪</td>\n      <td>24</td>\n      <td>/static/images/25/sex1-icon.png</td>\n      <td>●在线●语音连麦●游戏陪玩</td>\n      <td>/static/images/105/4.png</td>\n      <td>●在线●语音连麦●游戏陪玩</td>\n      <td>2023-07-03 15:31:53.485591</td>\n      <td>1</td>\n      <td>http://fhpkn3rf85.duopei-m.manongnet.cn</td>\n    </tr>\n    <tr>\n      <th>2</th>\n      <td>黎泽</td>\n      <td>21</td>\n      <td>/static/images/25/sex1-icon.png</td>\n      <td>●在线●语音连麦</td>\n      <td>/static/images/105/3.png</td>\n      <td>●在线●语音连麦</td>\n      <td>2023-07-03 15:31:53.485591</td>\n      <td>2</td>\n      <td>http://fhpkn3rf85.duopei-m.manongnet.cn</td>\n    </tr>\n    <tr>\n      <th>3</th>\n      <td>甜甜圈</td>\n      <td>99</td>\n      <td>/static/images/25/sex2-icon.png</td>\n      <td>●在线●语音连麦●游戏陪玩</td>\n      <td>/static/images/105/3.png</td>\n      <td>●在线●语音连麦●游戏陪玩</td>\n      <td>2023-07-03 15:31:53.485591</td>\n      <td>3</td>\n      <td>http://fhpkn3rf85.duopei-m.manongnet.cn</td>\n    </tr>\n    <tr>\n      <th>4</th>\n      <td>沈娇娇💋</td>\n      <td>100</td>\n      <td>/static/images/25/sex2-icon.png</td>\n      <td>●在线●语音连麦●游戏陪玩</td>\n      <td>/static/images/105/3.png</td>\n      <td>●在线●语音连麦●游戏陪玩</td>\n      <td>2023-07-03 15:31:53.485591</td>\n      <td>4</td>\n      <td>http://fhpkn3rf85.duopei-m.manongnet.cn</td>\n    </tr>\n    <tr>\n      <th>...</th>\n      <td>...</td>\n      <td>...</td>\n      <td>...</td>\n      <td>...</td>\n      <td>...</td>\n      <td>...</td>\n      <td>...</td>\n      <td>...</td>\n      <td>...</td>\n    </tr>\n    <tr>\n      <th>106465</th>\n      <td>叶叶</td>\n      <td>20</td>\n      <td>/static/images/25/sex2-icon.png</td>\n      <td>●离线 + 客服预约</td>\n      <td>/static/images/105/1.png</td>\n      <td>●离线 + 客服预约</td>\n      <td>2023-07-03 19:06:41.502132</td>\n      <td>282</td>\n      <td>http://fhpkn3rf85.duopei-m.manongnet.cn</td>\n    </tr>\n    <tr>\n      <th>106466</th>\n      <td>北北北</td>\n      <td>20</td>\n      <td>/static/images/25/sex2-icon.png</td>\n      <td>●离线 + 客服预约</td>\n      <td>/static/images/105/1.png</td>\n      <td>●离线 + 客服预约</td>\n      <td>2023-07-03 19:06:41.502132</td>\n      <td>283</td>\n      <td>http://fhpkn3rf85.duopei-m.manongnet.cn</td>\n    </tr>\n    <tr>\n      <th>106467</th>\n      <td>有鹤</td>\n      <td>22</td>\n      <td>/static/images/25/sex1-icon.png</td>\n      <td>●离线 + 客服预约</td>\n      <td>/static/images/105/1.png</td>\n      <td>●离线 + 客服预约</td>\n      <td>2023-07-03 19:06:41.502132</td>\n      <td>284</td>\n      <td>http://fhpkn3rf85.duopei-m.manongnet.cn</td>\n    </tr>\n    <tr>\n      <th>106468</th>\n      <td>萝卜</td>\n      <td>19</td>\n      <td>/static/images/25/sex2-icon.png</td>\n      <td>●离线 + 客服预约</td>\n      <td>/static/images/105/1.png</td>\n      <td>●离线 + 客服预约</td>\n      <td>2023-07-03 19:06:41.502132</td>\n      <td>285</td>\n      <td>http://fhpkn3rf85.duopei-m.manongnet.cn</td>\n    </tr>\n    <tr>\n      <th>106469</th>\n      <td>上山鹤</td>\n      <td>26</td>\n      <td>/static/images/25/sex2-icon.png</td>\n      <td>●离线 + 客服预约</td>\n      <td>/static/images/105/1.png</td>\n      <td>●离线 + 客服预约</td>\n      <td>2023-07-03 19:06:41.502132</td>\n      <td>286</td>\n      <td>http://fhpkn3rf85.duopei-m.manongnet.cn</td>\n    </tr>\n  </tbody>\n</table>\n<p>106470 rows × 9 columns</p>\n</div>"
     },
     "execution_count": 2,
     "metadata": {},
     "output_type": "execute_result"
    }
   ],
   "source": [
    "df = pd.read_parquet(f'{cf.DS_PATH}/清欢树洞/user_daily_data/2023-07-03')\n",
    "df"
   ],
   "metadata": {
    "collapsed": false,
    "ExecuteTime": {
     "end_time": "2023-07-03T11:06:55.899728Z",
     "start_time": "2023-07-03T11:06:55.593011Z"
    }
   }
  },
  {
   "cell_type": "code",
   "execution_count": 3,
   "outputs": [
    {
     "data": {
      "text/plain": "array(['http://fhpkn3rf85.duopei-m.manongnet.cn'], dtype=object)"
     },
     "execution_count": 3,
     "metadata": {},
     "output_type": "execute_result"
    }
   ],
   "source": [
    "df['Source'].unique()"
   ],
   "metadata": {
    "collapsed": false,
    "ExecuteTime": {
     "end_time": "2023-07-03T11:06:56.060409Z",
     "start_time": "2023-07-03T11:06:55.900800Z"
    }
   }
  }
 ],
 "metadata": {
  "kernelspec": {
   "name": "playspider",
   "language": "python",
   "display_name": "PlaySpider"
  },
  "language_info": {
   "codemirror_mode": {
    "name": "ipython",
    "version": 2
   },
   "file_extension": ".py",
   "mimetype": "text/x-python",
   "name": "python",
   "nbconvert_exporter": "python",
   "pygments_lexer": "ipython2",
   "version": "2.7.6"
  }
 },
 "nbformat": 4,
 "nbformat_minor": 0
}
