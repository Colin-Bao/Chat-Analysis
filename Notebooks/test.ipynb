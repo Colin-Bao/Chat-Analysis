{
 "cells": [
  {
   "cell_type": "code",
   "execution_count": 18,
   "metadata": {
    "collapsed": true,
    "ExecuteTime": {
     "end_time": "2023-07-03T07:30:45.450059Z",
     "start_time": "2023-07-03T07:30:45.422933Z"
    }
   },
   "outputs": [],
   "source": [
    "import sys\n",
    "\n",
    "sys.path.append('/home/ubuntu/PycharmProjects/Chat-Analysis')\n",
    "sys.path.append('/home/ubuntu/PycharmProjects/Chat-Analysis/DuopeiSpider')\n",
    "from DuopeiSpider import setting as cf\n",
    "import pandas as pd\n",
    "import numpy as np"
   ]
  },
  {
   "cell_type": "code",
   "execution_count": 19,
   "outputs": [
    {
     "data": {
      "text/plain": "          Name  Age                       SexImg                      Online  \\\n0    七七呀（许愿包天）   22  /static/images/47/women.png  在线 | 文语 | 连麦 | 游戏陪玩 | 买断专属   \n1          小飞侠   24  /static/images/47/women.png              在线 | 文语 | 买断专属   \n2         橘子奶茶   24  /static/images/47/women.png              在线 | 文语 | 买断专属   \n3            书   22  /static/images/47/women.png  在线 | 文语 | 连麦 | 游戏陪玩 | 买断专属   \n4          圆香芹   99  /static/images/47/women.png              在线 | 文语 | 买断专属   \n..         ...  ...                          ...                         ...   \n591       彩虹云朵   25  /static/images/47/women.png                          离线   \n592         忘锦   20  /static/images/47/women.png                          离线   \n593         浮生   20    /static/images/47/man.png                          离线   \n594        楠楠.   20  /static/images/47/women.png                          离线   \n595         啊卷   22  /static/images/47/women.png                          离线   \n\n    Position                 GradeImg                     Service  \\\n0         江苏  /static/images/47/6.png  在线 | 文语 | 连麦 | 游戏陪玩 | 买断专属   \n1         上海  /static/images/47/6.png              在线 | 文语 | 买断专属   \n2         重庆  /static/images/47/6.png              在线 | 文语 | 买断专属   \n3         重庆  /static/images/47/6.png  在线 | 文语 | 连麦 | 游戏陪玩 | 买断专属   \n4         广东  /static/images/47/6.png              在线 | 文语 | 买断专属   \n..       ...                      ...                         ...   \n591       浙江  /static/images/47/1.png                          离线   \n592       青海  /static/images/47/1.png                          离线   \n593       海外  /static/images/47/1.png                          离线   \n594       浙江  /static/images/47/1.png                          离线   \n595       广东  /static/images/47/1.png                          离线   \n\n                          Date  Rank                                 Source  \n0   2023-07-03 15:30:24.212675     0  http://8mukjha763.duopei-m.99c99c.com  \n1   2023-07-03 15:30:24.212675     1  http://8mukjha763.duopei-m.99c99c.com  \n2   2023-07-03 15:30:24.212675     2  http://8mukjha763.duopei-m.99c99c.com  \n3   2023-07-03 15:30:24.212675     3  http://8mukjha763.duopei-m.99c99c.com  \n4   2023-07-03 15:30:24.212675     4  http://8mukjha763.duopei-m.99c99c.com  \n..                         ...   ...                                    ...  \n591 2023-07-03 15:30:44.246710   293  http://8mukjha763.duopei-m.99c99c.com  \n592 2023-07-03 15:30:44.246710   294  http://8mukjha763.duopei-m.99c99c.com  \n593 2023-07-03 15:30:44.246710   295  http://8mukjha763.duopei-m.99c99c.com  \n594 2023-07-03 15:30:44.246710   296  http://8mukjha763.duopei-m.99c99c.com  \n595 2023-07-03 15:30:44.246710   297  http://8mukjha763.duopei-m.99c99c.com  \n\n[596 rows x 10 columns]",
      "text/html": "<div>\n<style scoped>\n    .dataframe tbody tr th:only-of-type {\n        vertical-align: middle;\n    }\n\n    .dataframe tbody tr th {\n        vertical-align: top;\n    }\n\n    .dataframe thead th {\n        text-align: right;\n    }\n</style>\n<table border=\"1\" class=\"dataframe\">\n  <thead>\n    <tr style=\"text-align: right;\">\n      <th></th>\n      <th>Name</th>\n      <th>Age</th>\n      <th>SexImg</th>\n      <th>Online</th>\n      <th>Position</th>\n      <th>GradeImg</th>\n      <th>Service</th>\n      <th>Date</th>\n      <th>Rank</th>\n      <th>Source</th>\n    </tr>\n  </thead>\n  <tbody>\n    <tr>\n      <th>0</th>\n      <td>七七呀（许愿包天）</td>\n      <td>22</td>\n      <td>/static/images/47/women.png</td>\n      <td>在线 | 文语 | 连麦 | 游戏陪玩 | 买断专属</td>\n      <td>江苏</td>\n      <td>/static/images/47/6.png</td>\n      <td>在线 | 文语 | 连麦 | 游戏陪玩 | 买断专属</td>\n      <td>2023-07-03 15:30:24.212675</td>\n      <td>0</td>\n      <td>http://8mukjha763.duopei-m.99c99c.com</td>\n    </tr>\n    <tr>\n      <th>1</th>\n      <td>小飞侠</td>\n      <td>24</td>\n      <td>/static/images/47/women.png</td>\n      <td>在线 | 文语 | 买断专属</td>\n      <td>上海</td>\n      <td>/static/images/47/6.png</td>\n      <td>在线 | 文语 | 买断专属</td>\n      <td>2023-07-03 15:30:24.212675</td>\n      <td>1</td>\n      <td>http://8mukjha763.duopei-m.99c99c.com</td>\n    </tr>\n    <tr>\n      <th>2</th>\n      <td>橘子奶茶</td>\n      <td>24</td>\n      <td>/static/images/47/women.png</td>\n      <td>在线 | 文语 | 买断专属</td>\n      <td>重庆</td>\n      <td>/static/images/47/6.png</td>\n      <td>在线 | 文语 | 买断专属</td>\n      <td>2023-07-03 15:30:24.212675</td>\n      <td>2</td>\n      <td>http://8mukjha763.duopei-m.99c99c.com</td>\n    </tr>\n    <tr>\n      <th>3</th>\n      <td>书</td>\n      <td>22</td>\n      <td>/static/images/47/women.png</td>\n      <td>在线 | 文语 | 连麦 | 游戏陪玩 | 买断专属</td>\n      <td>重庆</td>\n      <td>/static/images/47/6.png</td>\n      <td>在线 | 文语 | 连麦 | 游戏陪玩 | 买断专属</td>\n      <td>2023-07-03 15:30:24.212675</td>\n      <td>3</td>\n      <td>http://8mukjha763.duopei-m.99c99c.com</td>\n    </tr>\n    <tr>\n      <th>4</th>\n      <td>圆香芹</td>\n      <td>99</td>\n      <td>/static/images/47/women.png</td>\n      <td>在线 | 文语 | 买断专属</td>\n      <td>广东</td>\n      <td>/static/images/47/6.png</td>\n      <td>在线 | 文语 | 买断专属</td>\n      <td>2023-07-03 15:30:24.212675</td>\n      <td>4</td>\n      <td>http://8mukjha763.duopei-m.99c99c.com</td>\n    </tr>\n    <tr>\n      <th>...</th>\n      <td>...</td>\n      <td>...</td>\n      <td>...</td>\n      <td>...</td>\n      <td>...</td>\n      <td>...</td>\n      <td>...</td>\n      <td>...</td>\n      <td>...</td>\n      <td>...</td>\n    </tr>\n    <tr>\n      <th>591</th>\n      <td>彩虹云朵</td>\n      <td>25</td>\n      <td>/static/images/47/women.png</td>\n      <td>离线</td>\n      <td>浙江</td>\n      <td>/static/images/47/1.png</td>\n      <td>离线</td>\n      <td>2023-07-03 15:30:44.246710</td>\n      <td>293</td>\n      <td>http://8mukjha763.duopei-m.99c99c.com</td>\n    </tr>\n    <tr>\n      <th>592</th>\n      <td>忘锦</td>\n      <td>20</td>\n      <td>/static/images/47/women.png</td>\n      <td>离线</td>\n      <td>青海</td>\n      <td>/static/images/47/1.png</td>\n      <td>离线</td>\n      <td>2023-07-03 15:30:44.246710</td>\n      <td>294</td>\n      <td>http://8mukjha763.duopei-m.99c99c.com</td>\n    </tr>\n    <tr>\n      <th>593</th>\n      <td>浮生</td>\n      <td>20</td>\n      <td>/static/images/47/man.png</td>\n      <td>离线</td>\n      <td>海外</td>\n      <td>/static/images/47/1.png</td>\n      <td>离线</td>\n      <td>2023-07-03 15:30:44.246710</td>\n      <td>295</td>\n      <td>http://8mukjha763.duopei-m.99c99c.com</td>\n    </tr>\n    <tr>\n      <th>594</th>\n      <td>楠楠.</td>\n      <td>20</td>\n      <td>/static/images/47/women.png</td>\n      <td>离线</td>\n      <td>浙江</td>\n      <td>/static/images/47/1.png</td>\n      <td>离线</td>\n      <td>2023-07-03 15:30:44.246710</td>\n      <td>296</td>\n      <td>http://8mukjha763.duopei-m.99c99c.com</td>\n    </tr>\n    <tr>\n      <th>595</th>\n      <td>啊卷</td>\n      <td>22</td>\n      <td>/static/images/47/women.png</td>\n      <td>离线</td>\n      <td>广东</td>\n      <td>/static/images/47/1.png</td>\n      <td>离线</td>\n      <td>2023-07-03 15:30:44.246710</td>\n      <td>297</td>\n      <td>http://8mukjha763.duopei-m.99c99c.com</td>\n    </tr>\n  </tbody>\n</table>\n<p>596 rows × 10 columns</p>\n</div>"
     },
     "execution_count": 19,
     "metadata": {},
     "output_type": "execute_result"
    }
   ],
   "source": [
    "pd.read_parquet(f'{cf.DS_PATH}/橘色灯罩/user_daily_data/2023-07-03')"
   ],
   "metadata": {
    "collapsed": false,
    "ExecuteTime": {
     "end_time": "2023-07-03T07:30:45.574356Z",
     "start_time": "2023-07-03T07:30:45.450891Z"
    }
   }
  },
  {
   "cell_type": "code",
   "execution_count": 19,
   "outputs": [],
   "source": [],
   "metadata": {
    "collapsed": false,
    "ExecuteTime": {
     "end_time": "2023-07-03T07:30:45.633203Z",
     "start_time": "2023-07-03T07:30:45.573779Z"
    }
   }
  }
 ],
 "metadata": {
  "kernelspec": {
   "name": "playspider",
   "language": "python",
   "display_name": "PlaySpider"
  },
  "language_info": {
   "codemirror_mode": {
    "name": "ipython",
    "version": 2
   },
   "file_extension": ".py",
   "mimetype": "text/x-python",
   "name": "python",
   "nbconvert_exporter": "python",
   "pygments_lexer": "ipython2",
   "version": "2.7.6"
  }
 },
 "nbformat": 4,
 "nbformat_minor": 0
}
