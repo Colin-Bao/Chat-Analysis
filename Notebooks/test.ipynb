{
 "cells": [
  {
   "cell_type": "code",
   "execution_count": 1,
   "metadata": {
    "collapsed": true
   },
   "outputs": [],
   "source": [
    "import sys\n",
    "\n",
    "# https://chat.openai.com/share/1239b5ad-fdbc-406f-8566-6d10f1b1b10c\n",
    "sys.path.append('/home/ubuntu/PycharmProjects/Chat-Analysis')\n",
    "from DuopeiSpider.Utils import setting as cf\n",
    "import pandas as pd\n",
    "import numpy as np"
   ]
  },
  {
   "cell_type": "code",
   "execution_count": 2,
   "outputs": [
    {
     "data": {
      "text/plain": "         Name  Age                                                Sex Online  \\\n0     糖恋客服-安鱼   19  background: linear-gradient(to right, rgb(255,...     在线   \n1    客服阮-店员推荐   18  background: linear-gradient(to right, rgb(255,...     在线   \n2          尽欢   20  background: linear-gradient(to right, rgb(255,...     在线   \n3          温蒂   22  background: linear-gradient(to right, rgb(255,...     在线   \n4          玩偶   20  background: linear-gradient(to right, rgb(255,...     在线   \n..        ...  ...                                                ...    ...   \n694        森晚   22  background: linear-gradient(to right, rgb(255,...     离线   \n695        噗噗   23  background: linear-gradient(to right, rgb(255,...     离线   \n696        赛罗   21  background: linear-gradient(to right, rgb(255,...     离线   \n697        痣.   26  background: linear-gradient(to right, rgb(255,...     离线   \n698        魔王   29  background: linear-gradient(to right, rgb(255,...     离线   \n\n       Grade      Service                       Date  Rank  \\\n0    40 / 糖果              2023-07-03 23:59:06.592926     0   \n1    40 / 糖果              2023-07-03 23:59:06.592926     1   \n2    40 / 糖果  文语|连麦|视频|游戏 2023-07-03 23:59:06.592926     2   \n3    40 / 糖果        文语|连麦 2023-07-03 23:59:06.592926     3   \n4    40 / 糖果  文语|连麦|视频|游戏 2023-07-03 23:59:06.592926     4   \n..       ...          ...                        ...   ...   \n694  10 / 糖果        文语|游戏 2023-07-03 23:59:43.628884   228   \n695  10 / 糖果     文语|连麦|游戏 2023-07-03 23:59:43.628884   229   \n696  10 / 糖果  文语|连麦|视频|游戏 2023-07-03 23:59:43.628884   230   \n697  10 / 糖果  文语|连麦|视频|游戏 2023-07-03 23:59:43.628884   231   \n698  10 / 糖果              2023-07-03 23:59:43.628884   232   \n\n                                     Source  \n0    http://tj5uhmrpeq.duopei-m.featnet.com  \n1    http://tj5uhmrpeq.duopei-m.featnet.com  \n2    http://tj5uhmrpeq.duopei-m.featnet.com  \n3    http://tj5uhmrpeq.duopei-m.featnet.com  \n4    http://tj5uhmrpeq.duopei-m.featnet.com  \n..                                      ...  \n694  http://tj5uhmrpeq.duopei-m.featnet.com  \n695  http://tj5uhmrpeq.duopei-m.featnet.com  \n696  http://tj5uhmrpeq.duopei-m.featnet.com  \n697  http://tj5uhmrpeq.duopei-m.featnet.com  \n698  http://tj5uhmrpeq.duopei-m.featnet.com  \n\n[699 rows x 9 columns]",
      "text/html": "<div>\n<style scoped>\n    .dataframe tbody tr th:only-of-type {\n        vertical-align: middle;\n    }\n\n    .dataframe tbody tr th {\n        vertical-align: top;\n    }\n\n    .dataframe thead th {\n        text-align: right;\n    }\n</style>\n<table border=\"1\" class=\"dataframe\">\n  <thead>\n    <tr style=\"text-align: right;\">\n      <th></th>\n      <th>Name</th>\n      <th>Age</th>\n      <th>Sex</th>\n      <th>Online</th>\n      <th>Grade</th>\n      <th>Service</th>\n      <th>Date</th>\n      <th>Rank</th>\n      <th>Source</th>\n    </tr>\n  </thead>\n  <tbody>\n    <tr>\n      <th>0</th>\n      <td>糖恋客服-安鱼</td>\n      <td>19</td>\n      <td>background: linear-gradient(to right, rgb(255,...</td>\n      <td>在线</td>\n      <td>40 / 糖果</td>\n      <td></td>\n      <td>2023-07-03 23:59:06.592926</td>\n      <td>0</td>\n      <td>http://tj5uhmrpeq.duopei-m.featnet.com</td>\n    </tr>\n    <tr>\n      <th>1</th>\n      <td>客服阮-店员推荐</td>\n      <td>18</td>\n      <td>background: linear-gradient(to right, rgb(255,...</td>\n      <td>在线</td>\n      <td>40 / 糖果</td>\n      <td></td>\n      <td>2023-07-03 23:59:06.592926</td>\n      <td>1</td>\n      <td>http://tj5uhmrpeq.duopei-m.featnet.com</td>\n    </tr>\n    <tr>\n      <th>2</th>\n      <td>尽欢</td>\n      <td>20</td>\n      <td>background: linear-gradient(to right, rgb(255,...</td>\n      <td>在线</td>\n      <td>40 / 糖果</td>\n      <td>文语|连麦|视频|游戏</td>\n      <td>2023-07-03 23:59:06.592926</td>\n      <td>2</td>\n      <td>http://tj5uhmrpeq.duopei-m.featnet.com</td>\n    </tr>\n    <tr>\n      <th>3</th>\n      <td>温蒂</td>\n      <td>22</td>\n      <td>background: linear-gradient(to right, rgb(255,...</td>\n      <td>在线</td>\n      <td>40 / 糖果</td>\n      <td>文语|连麦</td>\n      <td>2023-07-03 23:59:06.592926</td>\n      <td>3</td>\n      <td>http://tj5uhmrpeq.duopei-m.featnet.com</td>\n    </tr>\n    <tr>\n      <th>4</th>\n      <td>玩偶</td>\n      <td>20</td>\n      <td>background: linear-gradient(to right, rgb(255,...</td>\n      <td>在线</td>\n      <td>40 / 糖果</td>\n      <td>文语|连麦|视频|游戏</td>\n      <td>2023-07-03 23:59:06.592926</td>\n      <td>4</td>\n      <td>http://tj5uhmrpeq.duopei-m.featnet.com</td>\n    </tr>\n    <tr>\n      <th>...</th>\n      <td>...</td>\n      <td>...</td>\n      <td>...</td>\n      <td>...</td>\n      <td>...</td>\n      <td>...</td>\n      <td>...</td>\n      <td>...</td>\n      <td>...</td>\n    </tr>\n    <tr>\n      <th>694</th>\n      <td>森晚</td>\n      <td>22</td>\n      <td>background: linear-gradient(to right, rgb(255,...</td>\n      <td>离线</td>\n      <td>10 / 糖果</td>\n      <td>文语|游戏</td>\n      <td>2023-07-03 23:59:43.628884</td>\n      <td>228</td>\n      <td>http://tj5uhmrpeq.duopei-m.featnet.com</td>\n    </tr>\n    <tr>\n      <th>695</th>\n      <td>噗噗</td>\n      <td>23</td>\n      <td>background: linear-gradient(to right, rgb(255,...</td>\n      <td>离线</td>\n      <td>10 / 糖果</td>\n      <td>文语|连麦|游戏</td>\n      <td>2023-07-03 23:59:43.628884</td>\n      <td>229</td>\n      <td>http://tj5uhmrpeq.duopei-m.featnet.com</td>\n    </tr>\n    <tr>\n      <th>696</th>\n      <td>赛罗</td>\n      <td>21</td>\n      <td>background: linear-gradient(to right, rgb(255,...</td>\n      <td>离线</td>\n      <td>10 / 糖果</td>\n      <td>文语|连麦|视频|游戏</td>\n      <td>2023-07-03 23:59:43.628884</td>\n      <td>230</td>\n      <td>http://tj5uhmrpeq.duopei-m.featnet.com</td>\n    </tr>\n    <tr>\n      <th>697</th>\n      <td>痣.</td>\n      <td>26</td>\n      <td>background: linear-gradient(to right, rgb(255,...</td>\n      <td>离线</td>\n      <td>10 / 糖果</td>\n      <td>文语|连麦|视频|游戏</td>\n      <td>2023-07-03 23:59:43.628884</td>\n      <td>231</td>\n      <td>http://tj5uhmrpeq.duopei-m.featnet.com</td>\n    </tr>\n    <tr>\n      <th>698</th>\n      <td>魔王</td>\n      <td>29</td>\n      <td>background: linear-gradient(to right, rgb(255,...</td>\n      <td>离线</td>\n      <td>10 / 糖果</td>\n      <td></td>\n      <td>2023-07-03 23:59:43.628884</td>\n      <td>232</td>\n      <td>http://tj5uhmrpeq.duopei-m.featnet.com</td>\n    </tr>\n  </tbody>\n</table>\n<p>699 rows × 9 columns</p>\n</div>"
     },
     "execution_count": 2,
     "metadata": {},
     "output_type": "execute_result"
    }
   ],
   "source": [
    "df = pd.read_parquet(f'{cf.DS_PATH}/糖恋树洞/user_daily_data/2023-07-03')\n",
    "df"
   ],
   "metadata": {
    "collapsed": false
   }
  },
  {
   "cell_type": "code",
   "execution_count": 3,
   "outputs": [
    {
     "data": {
      "text/plain": "array(['糖恋客服-安鱼', '客服阮-店员推荐', '尽欢', '温蒂', '玩偶', '樱奈.', '情场职场实战军师',\n       'Alieo', '波提切利', '樹', '苏寒', '蜜柚🖤', '傲娇包的妹妹', '钟意', '呆呆', '瘾', '江槿',\n       '许愿', '钟隐', 'Uu', '太一', '慕雪', '风', '江澈', '桃气鬼🍑', 'Daddy', '小熊ovo',\n       '江东寒', '绯月', '困困熊', '猪猪饲料', '今朝', '温言', '魏婴', '伊伊', '江奈', 'R',\n       '猫玖', '布洛芬', 'Jay', '尘曦丶', 'Mia', '晚听', '笙笙', '月色', '观南', '大鹅',\n       '池欢', '春夜', '丹丹', '温暖🔥', '山复尔尔', '春野', '原味🔥', '松月', '翦翦', '小青桔',\n       '娇娇', '江边儿', '宋枝', '猫叔.', '小新', '予你', '黎一', '米花', '小甜酒', '芙芙',\n       '忘川', '鹊起', '情场浪子', '觅枝🔥', '言情.', '美女蛇', '五月天空', '桐桐睡不醒o', '茉茉',\n       '冷欲姐姐', '靓靓', '小余', '二月', '忙忙', '小云', '姐姐', '犹太', '做一只猫', '樱桃',\n       '李泽言', '钟情', '欣怡', '小晚', '073', '草鱼', '琳欣', '陈木花道', '鹿与', '温予',\n       '翎梦', 'Vk.', '清风', '莫莫', '早睡咯', '广坤', '苏欲', '苏苒', '呐呐', '哈基米',\n       '山楂', '齐齐', '九尘', '水嫩', '西屿', '颖颖，', '肉肉', '兔兔', '星晨', '金刚芭比',\n       '桃梓', '余温辞', '小少爷', '妮妮', '信bro', '小李子', '亚当', '林洞', '小尾巴', '苏秦',\n       '夏尔', '微凉', 'S喵', '陈小呆', '渝果', '慕仁', '咛顾', '秦卿卿', '坏坏女', 'じovの',\n       '红桃K', '酒77', '纯欲小妈', '巴卡', '细细粒', '耶耶崽', '向阳', '知知', '巴黎世家', '小妖',\n       '北枳', '还是C', 'S686', '欲蛇', '酒儿👑', '御猫🔥', '某不知名大小姐', '茶卡盐湖', '大姚',\n       '奶糖', '涵涵', '声声', '只狐', '绵绵冰🍧', '32', '秋颜', '阿鱼', '妪予', '山川',\n       '刺客粥粥', '道可', '小魂淡', 'K8', '小叮当', '陆川', '糕冷小甜', '西柚', '温霜降', '贰拾陆',\n       '亦星', '洛洛', '拿铁☕️', '知甜', '阿里', '茉莉', '小羊羔', '林玖.', '温情', '伴月',\n       '养养', '小丞', '林奚', 'blue', 'chaser', '冷曦', '星梦', 'osou', '昕昕子',\n       '桑怪', '林汀', '久田樱', '许愿星', '知世', '妮可', '八九', '宋言', '韵宝', '安妮', '77',\n       '辛弃疾', '理理', '云升', '爱吃松子', 'Minmin', '墩墩', '江桥', '苏瑶', '绒绒', '十一',\n       '棉花糖', '赖蚊烂Kurom', '小鬼', '北北', '云烟', '小鱼', '树儿', '恋旧', '清辞',\n       '壹原侑子', '北野', '九九', '崽崽.', '森晚', '噗噗', '赛罗', '痣.', '魔王'],\n      dtype=object)"
     },
     "execution_count": 3,
     "metadata": {},
     "output_type": "execute_result"
    }
   ],
   "source": [
    "df['Name'].unique()"
   ],
   "metadata": {
    "collapsed": false
   }
  }
 ],
 "metadata": {
  "kernelspec": {
   "name": "playspider",
   "language": "python",
   "display_name": "PlaySpider"
  },
  "language_info": {
   "codemirror_mode": {
    "name": "ipython",
    "version": 2
   },
   "file_extension": ".py",
   "mimetype": "text/x-python",
   "name": "python",
   "nbconvert_exporter": "python",
   "pygments_lexer": "ipython2",
   "version": "2.7.6"
  }
 },
 "nbformat": 4,
 "nbformat_minor": 0
}
