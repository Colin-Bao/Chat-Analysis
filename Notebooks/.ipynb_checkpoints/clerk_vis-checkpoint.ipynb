{
 "cells": [
  {
   "cell_type": "markdown",
   "source": [
    "# 全店员信息可视化项目"
   ],
   "metadata": {
    "collapsed": false
   }
  },
  {
   "cell_type": "code",
   "execution_count": 1,
   "metadata": {
    "collapsed": true,
    "ExecuteTime": {
     "end_time": "2023-07-20T10:02:20.971916Z",
     "start_time": "2023-07-20T10:02:14.335161Z"
    }
   },
   "outputs": [],
   "source": [
    "import pandas as pd\n",
    "import numpy as np"
   ]
  },
  {
   "cell_type": "markdown",
   "source": [
    "## 数据清洗"
   ],
   "metadata": {
    "collapsed": false
   }
  },
  {
   "cell_type": "code",
   "execution_count": 2,
   "outputs": [
    {
     "data": {
      "text/plain": "      Age                                          AvatarImg  grade  \\\n0     100  http://cos.duopei.feiniaowangluo.com/183/clerk...      0   \n1      18  http://cos.duopei.feiniaowangluo.com/183/clerk...      0   \n2      24  http://cos.duopei.feiniaowangluo.com/183/clerk...      0   \n3      23  http://cos.duopei.feiniaowangluo.com/183/clerk...      0   \n4      99  http://cos.duopei.feiniaowangluo.com/183/clerk...      0   \n...   ...                                                ...    ...   \n3546   19  http://cos.duopei.feiniaowangluo.com/127/clerk...      1   \n3547   19  http://cos.duopei.feiniaowangluo.com/127/clerk...      1   \n3548   20  http://cos.duopei.feiniaowangluo.com/127/clerk...      1   \n3549   20  http://cos.duopei.feiniaowangluo.com/127/clerk...      1   \n3550   22  http://cos.duopei.feiniaowangluo.com/127/clerk...      1   \n\n            name  online_status Position Profile  \\\n0     店长（咨询投诉➕v）              0       北京       0   \n1             小忍              0       四川       0   \n2          一颗小豆丁              0       四川       0   \n3        陆川.aiai              0       四川       0   \n4            小玫瑰              0       浙江       0   \n...          ...            ...      ...     ...   \n3546          小芝              0       新疆       0   \n3547          北夏              0       江苏       0   \n3548          许念              0       安徽       0   \n3549          纯情              0       四川       0   \n3550         爱多多              0       江苏       0   \n\n                                     tag  audio_url company  crawl_date  \\\n0     绿色聊天|拒绝低俗|无理投诉不接|公众号有店长v|公众号可以直接留言          0   今天喝酸奶           0   \n1                      无敌恋爱脑|可带走可奔现|照片本人          0   今天喝酸奶           0   \n2                       情绪树洞|温柔|粘人|等你带走呀          0   今天喝酸奶           0   \n3                                    NaN          0   今天喝酸奶           0   \n4               恋爱脑可拐走|甜甜的爱情|迷人坏姐姐|买断有惊喜          0   今天喝酸奶           0   \n...                                  ...        ...     ...         ...   \n3546  甜妹人设御姐音|晚上哄睡|我会是你万千过客之一吗？|有点呆|呆呆的御          0     找陪陪           0   \n3547                   可爱|粘人|可接视频单|话唠|温柔          0     找陪陪           0   \n3548                     恋爱脑|全能|听话|温柔|真诚          0     找陪陪           0   \n3549               身娇体软律师舞蹈生|拿捏小心思|颜值与身材          0     找陪陪           0   \n3550                           入股不亏|猫咪女友          0     找陪陪           0   \n\n             crawl_date_2  grade.1  homepage  online_status.1  rank  rank_2  \\\n0     2023-07-20 04:39:59        0         0                0     0       0   \n1     2023-07-20 04:39:59        0         0                0     0       1   \n2     2023-07-20 04:39:59        0         0                0     0       2   \n3     2023-07-20 04:39:59        0         0                0     0       3   \n4     2023-07-20 04:39:59        0         0                0     0       4   \n...                   ...      ...       ...              ...   ...     ...   \n3546  2023-07-20 04:40:36        1         0                0     0     300   \n3547  2023-07-20 04:40:36        1         0                0     0     301   \n3548  2023-07-20 04:40:36        1         0                0     0     302   \n3549  2023-07-20 04:40:36        1         0                0     0     303   \n3550  2023-07-20 04:40:36        1         0                0     0     304   \n\n                                      website  \n0     http://exjomkwuav.duopei-m.manongnet.cn  \n1     http://exjomkwuav.duopei-m.manongnet.cn  \n2     http://exjomkwuav.duopei-m.manongnet.cn  \n3     http://exjomkwuav.duopei-m.manongnet.cn  \n4     http://exjomkwuav.duopei-m.manongnet.cn  \n...                                       ...  \n3546  http://yj5igug8wx.duopei-m.manongnet.cn  \n3547  http://yj5igug8wx.duopei-m.manongnet.cn  \n3548  http://yj5igug8wx.duopei-m.manongnet.cn  \n3549  http://yj5igug8wx.duopei-m.manongnet.cn  \n3550  http://yj5igug8wx.duopei-m.manongnet.cn  \n\n[3551 rows x 18 columns]",
      "text/html": "<div>\n<style scoped>\n    .dataframe tbody tr th:only-of-type {\n        vertical-align: middle;\n    }\n\n    .dataframe tbody tr th {\n        vertical-align: top;\n    }\n\n    .dataframe thead th {\n        text-align: right;\n    }\n</style>\n<table border=\"1\" class=\"dataframe\">\n  <thead>\n    <tr style=\"text-align: right;\">\n      <th></th>\n      <th>Age</th>\n      <th>AvatarImg</th>\n      <th>grade</th>\n      <th>name</th>\n      <th>online_status</th>\n      <th>Position</th>\n      <th>Profile</th>\n      <th>tag</th>\n      <th>audio_url</th>\n      <th>company</th>\n      <th>crawl_date</th>\n      <th>crawl_date_2</th>\n      <th>grade.1</th>\n      <th>homepage</th>\n      <th>online_status.1</th>\n      <th>rank</th>\n      <th>rank_2</th>\n      <th>website</th>\n    </tr>\n  </thead>\n  <tbody>\n    <tr>\n      <th>0</th>\n      <td>100</td>\n      <td>http://cos.duopei.feiniaowangluo.com/183/clerk...</td>\n      <td>0</td>\n      <td>店长（咨询投诉➕v）</td>\n      <td>0</td>\n      <td>北京</td>\n      <td>0</td>\n      <td>绿色聊天|拒绝低俗|无理投诉不接|公众号有店长v|公众号可以直接留言</td>\n      <td>0</td>\n      <td>今天喝酸奶</td>\n      <td>0</td>\n      <td>2023-07-20 04:39:59</td>\n      <td>0</td>\n      <td>0</td>\n      <td>0</td>\n      <td>0</td>\n      <td>0</td>\n      <td>http://exjomkwuav.duopei-m.manongnet.cn</td>\n    </tr>\n    <tr>\n      <th>1</th>\n      <td>18</td>\n      <td>http://cos.duopei.feiniaowangluo.com/183/clerk...</td>\n      <td>0</td>\n      <td>小忍</td>\n      <td>0</td>\n      <td>四川</td>\n      <td>0</td>\n      <td>无敌恋爱脑|可带走可奔现|照片本人</td>\n      <td>0</td>\n      <td>今天喝酸奶</td>\n      <td>0</td>\n      <td>2023-07-20 04:39:59</td>\n      <td>0</td>\n      <td>0</td>\n      <td>0</td>\n      <td>0</td>\n      <td>1</td>\n      <td>http://exjomkwuav.duopei-m.manongnet.cn</td>\n    </tr>\n    <tr>\n      <th>2</th>\n      <td>24</td>\n      <td>http://cos.duopei.feiniaowangluo.com/183/clerk...</td>\n      <td>0</td>\n      <td>一颗小豆丁</td>\n      <td>0</td>\n      <td>四川</td>\n      <td>0</td>\n      <td>情绪树洞|温柔|粘人|等你带走呀</td>\n      <td>0</td>\n      <td>今天喝酸奶</td>\n      <td>0</td>\n      <td>2023-07-20 04:39:59</td>\n      <td>0</td>\n      <td>0</td>\n      <td>0</td>\n      <td>0</td>\n      <td>2</td>\n      <td>http://exjomkwuav.duopei-m.manongnet.cn</td>\n    </tr>\n    <tr>\n      <th>3</th>\n      <td>23</td>\n      <td>http://cos.duopei.feiniaowangluo.com/183/clerk...</td>\n      <td>0</td>\n      <td>陆川.aiai</td>\n      <td>0</td>\n      <td>四川</td>\n      <td>0</td>\n      <td>NaN</td>\n      <td>0</td>\n      <td>今天喝酸奶</td>\n      <td>0</td>\n      <td>2023-07-20 04:39:59</td>\n      <td>0</td>\n      <td>0</td>\n      <td>0</td>\n      <td>0</td>\n      <td>3</td>\n      <td>http://exjomkwuav.duopei-m.manongnet.cn</td>\n    </tr>\n    <tr>\n      <th>4</th>\n      <td>99</td>\n      <td>http://cos.duopei.feiniaowangluo.com/183/clerk...</td>\n      <td>0</td>\n      <td>小玫瑰</td>\n      <td>0</td>\n      <td>浙江</td>\n      <td>0</td>\n      <td>恋爱脑可拐走|甜甜的爱情|迷人坏姐姐|买断有惊喜</td>\n      <td>0</td>\n      <td>今天喝酸奶</td>\n      <td>0</td>\n      <td>2023-07-20 04:39:59</td>\n      <td>0</td>\n      <td>0</td>\n      <td>0</td>\n      <td>0</td>\n      <td>4</td>\n      <td>http://exjomkwuav.duopei-m.manongnet.cn</td>\n    </tr>\n    <tr>\n      <th>...</th>\n      <td>...</td>\n      <td>...</td>\n      <td>...</td>\n      <td>...</td>\n      <td>...</td>\n      <td>...</td>\n      <td>...</td>\n      <td>...</td>\n      <td>...</td>\n      <td>...</td>\n      <td>...</td>\n      <td>...</td>\n      <td>...</td>\n      <td>...</td>\n      <td>...</td>\n      <td>...</td>\n      <td>...</td>\n      <td>...</td>\n    </tr>\n    <tr>\n      <th>3546</th>\n      <td>19</td>\n      <td>http://cos.duopei.feiniaowangluo.com/127/clerk...</td>\n      <td>1</td>\n      <td>小芝</td>\n      <td>0</td>\n      <td>新疆</td>\n      <td>0</td>\n      <td>甜妹人设御姐音|晚上哄睡|我会是你万千过客之一吗？|有点呆|呆呆的御</td>\n      <td>0</td>\n      <td>找陪陪</td>\n      <td>0</td>\n      <td>2023-07-20 04:40:36</td>\n      <td>1</td>\n      <td>0</td>\n      <td>0</td>\n      <td>0</td>\n      <td>300</td>\n      <td>http://yj5igug8wx.duopei-m.manongnet.cn</td>\n    </tr>\n    <tr>\n      <th>3547</th>\n      <td>19</td>\n      <td>http://cos.duopei.feiniaowangluo.com/127/clerk...</td>\n      <td>1</td>\n      <td>北夏</td>\n      <td>0</td>\n      <td>江苏</td>\n      <td>0</td>\n      <td>可爱|粘人|可接视频单|话唠|温柔</td>\n      <td>0</td>\n      <td>找陪陪</td>\n      <td>0</td>\n      <td>2023-07-20 04:40:36</td>\n      <td>1</td>\n      <td>0</td>\n      <td>0</td>\n      <td>0</td>\n      <td>301</td>\n      <td>http://yj5igug8wx.duopei-m.manongnet.cn</td>\n    </tr>\n    <tr>\n      <th>3548</th>\n      <td>20</td>\n      <td>http://cos.duopei.feiniaowangluo.com/127/clerk...</td>\n      <td>1</td>\n      <td>许念</td>\n      <td>0</td>\n      <td>安徽</td>\n      <td>0</td>\n      <td>恋爱脑|全能|听话|温柔|真诚</td>\n      <td>0</td>\n      <td>找陪陪</td>\n      <td>0</td>\n      <td>2023-07-20 04:40:36</td>\n      <td>1</td>\n      <td>0</td>\n      <td>0</td>\n      <td>0</td>\n      <td>302</td>\n      <td>http://yj5igug8wx.duopei-m.manongnet.cn</td>\n    </tr>\n    <tr>\n      <th>3549</th>\n      <td>20</td>\n      <td>http://cos.duopei.feiniaowangluo.com/127/clerk...</td>\n      <td>1</td>\n      <td>纯情</td>\n      <td>0</td>\n      <td>四川</td>\n      <td>0</td>\n      <td>身娇体软律师舞蹈生|拿捏小心思|颜值与身材</td>\n      <td>0</td>\n      <td>找陪陪</td>\n      <td>0</td>\n      <td>2023-07-20 04:40:36</td>\n      <td>1</td>\n      <td>0</td>\n      <td>0</td>\n      <td>0</td>\n      <td>303</td>\n      <td>http://yj5igug8wx.duopei-m.manongnet.cn</td>\n    </tr>\n    <tr>\n      <th>3550</th>\n      <td>22</td>\n      <td>http://cos.duopei.feiniaowangluo.com/127/clerk...</td>\n      <td>1</td>\n      <td>爱多多</td>\n      <td>0</td>\n      <td>江苏</td>\n      <td>0</td>\n      <td>入股不亏|猫咪女友</td>\n      <td>0</td>\n      <td>找陪陪</td>\n      <td>0</td>\n      <td>2023-07-20 04:40:36</td>\n      <td>1</td>\n      <td>0</td>\n      <td>0</td>\n      <td>0</td>\n      <td>304</td>\n      <td>http://yj5igug8wx.duopei-m.manongnet.cn</td>\n    </tr>\n  </tbody>\n</table>\n<p>3551 rows × 18 columns</p>\n</div>"
     },
     "execution_count": 2,
     "metadata": {},
     "output_type": "execute_result"
    }
   ],
   "source": [
    "pd.read_csv('/Users/colin/Library/Mobile Documents/com~apple~CloudDocs/PycharmProjects/Chat-Analysis/ScrapySpider/playwright_spider/data/user_clean.csv')"
   ],
   "metadata": {
    "collapsed": false,
    "ExecuteTime": {
     "end_time": "2023-07-20T10:02:21.007391Z",
     "start_time": "2023-07-20T10:02:20.975236Z"
    }
   }
  }
 ],
 "metadata": {
  "kernelspec": {
   "display_name": "Python 3",
   "language": "python",
   "name": "python3"
  },
  "language_info": {
   "codemirror_mode": {
    "name": "ipython",
    "version": 2
   },
   "file_extension": ".py",
   "mimetype": "text/x-python",
   "name": "python",
   "nbconvert_exporter": "python",
   "pygments_lexer": "ipython2",
   "version": "2.7.6"
  }
 },
 "nbformat": 4,
 "nbformat_minor": 0
}
