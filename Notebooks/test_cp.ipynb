{
 "cells": [
  {
   "cell_type": "code",
   "execution_count": 19,
   "outputs": [],
   "source": [
    "from io import StringIO\n",
    "import pandas as pd\n",
    "import datacompy"
   ],
   "metadata": {
    "collapsed": false,
    "ExecuteTime": {
     "start_time": "2023-06-08T04:26:30.676881Z",
     "end_time": "2023-06-08T04:26:30.934457Z"
    }
   }
  },
  {
   "cell_type": "code",
   "execution_count": 57,
   "metadata": {
    "collapsed": true,
    "ExecuteTime": {
     "start_time": "2023-06-08T04:39:02.942008Z",
     "end_time": "2023-06-08T04:39:02.947023Z"
    }
   },
   "outputs": [],
   "source": [
    "\n",
    "data1 = \"\"\"acct_id,name\n",
    "1,A\n",
    "2,B\n",
    "3,C\n",
    "\"\"\"\n",
    "\n",
    "data2 = \"\"\"acct_id,name\n",
    "1,A\n",
    "2,B\n",
    "3,C\n",
    "\"\"\"\n",
    "# data2 = data1\n",
    "\n",
    "df1 = pd.read_csv(StringIO(data1))\n",
    "df2 = pd.read_csv(StringIO(data2))\n",
    "\n",
    "compare = datacompy.Compare(\n",
    "        df1,\n",
    "        df2,\n",
    "        join_columns=['name'],  #You can also specify a list of columns\n",
    ")\n",
    "# compare.matches(ignore_extra_columns=False)\n",
    "# False\n",
    "\n",
    "# This method prints out a human-readable report summarizing and sampling differences"
   ]
  },
  {
   "cell_type": "code",
   "execution_count": 51,
   "outputs": [
    {
     "data": {
      "text/plain": "   acct_id name\n0      1.0    A",
      "text/html": "<div>\n<style scoped>\n    .dataframe tbody tr th:only-of-type {\n        vertical-align: middle;\n    }\n\n    .dataframe tbody tr th {\n        vertical-align: top;\n    }\n\n    .dataframe thead th {\n        text-align: right;\n    }\n</style>\n<table border=\"1\" class=\"dataframe\">\n  <thead>\n    <tr style=\"text-align: right;\">\n      <th></th>\n      <th>acct_id</th>\n      <th>name</th>\n    </tr>\n  </thead>\n  <tbody>\n    <tr>\n      <th>0</th>\n      <td>1.0</td>\n      <td>A</td>\n    </tr>\n  </tbody>\n</table>\n</div>"
     },
     "execution_count": 51,
     "metadata": {},
     "output_type": "execute_result"
    }
   ],
   "source": [],
   "metadata": {
    "collapsed": false,
    "ExecuteTime": {
     "start_time": "2023-06-08T04:34:15.341942Z",
     "end_time": "2023-06-08T04:34:15.348201Z"
    }
   }
  },
  {
   "cell_type": "code",
   "execution_count": 58,
   "outputs": [
    {
     "data": {
      "text/plain": "Empty DataFrame\nColumns: [acct_id, name, Status]\nIndex: []",
      "text/html": "<div>\n<style scoped>\n    .dataframe tbody tr th:only-of-type {\n        vertical-align: middle;\n    }\n\n    .dataframe tbody tr th {\n        vertical-align: top;\n    }\n\n    .dataframe thead th {\n        text-align: right;\n    }\n</style>\n<table border=\"1\" class=\"dataframe\">\n  <thead>\n    <tr style=\"text-align: right;\">\n      <th></th>\n      <th>acct_id</th>\n      <th>name</th>\n      <th>Status</th>\n    </tr>\n  </thead>\n  <tbody>\n  </tbody>\n</table>\n</div>"
     },
     "execution_count": 58,
     "metadata": {},
     "output_type": "execute_result"
    }
   ],
   "source": [
    "compare.df1_unq_rows['Status'] = '-'\n",
    "compare.df2_unq_rows['Status'] = '+'\n",
    "pd.concat([compare.df1_unq_rows, compare.df2_unq_rows])"
   ],
   "metadata": {
    "collapsed": false,
    "ExecuteTime": {
     "start_time": "2023-06-08T04:39:05.189994Z",
     "end_time": "2023-06-08T04:39:05.210807Z"
    }
   }
  },
  {
   "cell_type": "code",
   "execution_count": 16,
   "outputs": [],
   "source": [
    "df = pd.read_parquet('User_Panel/2023-06-07', )"
   ],
   "metadata": {
    "collapsed": false,
    "ExecuteTime": {
     "start_time": "2023-06-08T03:37:54.167528Z",
     "end_time": "2023-06-08T03:37:54.175359Z"
    }
   }
  },
  {
   "cell_type": "code",
   "execution_count": 17,
   "outputs": [
    {
     "data": {
      "text/plain": "      index                       Date      Name Sex  Age  Online  Grade  \\\n0         1 2023-06-07 21:01:31.779232   糖恋客服-安鱼   女   19    True     40   \n1         2 2023-06-07 21:01:31.779232  客服阮-店员推荐   女   18    True     40   \n2         3 2023-06-07 21:01:31.779232      Ace.   女   20    True     40   \n3         4 2023-06-07 21:01:31.779232      恶毒前妻   女   23    True     40   \n4         5 2023-06-07 21:01:31.779232     上杉绘梨衣   女   20    True     40   \n...     ...                        ...       ...  ..  ...     ...    ...   \n7585    249 2023-06-07 23:56:52.174662        向阳   男   21   False     10   \n7586    250 2023-06-07 23:56:52.174662       朱砂.   女   26   False     10   \n7587    251 2023-06-07 23:56:52.174662        初语   女   24   False     10   \n7588    252 2023-06-07 23:56:52.174662        魔王   女   29   False     10   \n7589    253 2023-06-07 23:56:52.174662        子希   男   24   False     10   \n\n       Text   Call  Video   Game  \n0     False  False  False  False  \n1     False  False  False  False  \n2     False  False  False  False  \n3     False  False  False  False  \n4     False  False  False  False  \n...     ...    ...    ...    ...  \n7585   True   True   True   True  \n7586   True   True   True   True  \n7587  False   True  False  False  \n7588  False  False  False  False  \n7589   True   True  False  False  \n\n[7590 rows x 11 columns]",
      "text/html": "<div>\n<style scoped>\n    .dataframe tbody tr th:only-of-type {\n        vertical-align: middle;\n    }\n\n    .dataframe tbody tr th {\n        vertical-align: top;\n    }\n\n    .dataframe thead th {\n        text-align: right;\n    }\n</style>\n<table border=\"1\" class=\"dataframe\">\n  <thead>\n    <tr style=\"text-align: right;\">\n      <th></th>\n      <th>index</th>\n      <th>Date</th>\n      <th>Name</th>\n      <th>Sex</th>\n      <th>Age</th>\n      <th>Online</th>\n      <th>Grade</th>\n      <th>Text</th>\n      <th>Call</th>\n      <th>Video</th>\n      <th>Game</th>\n    </tr>\n  </thead>\n  <tbody>\n    <tr>\n      <th>0</th>\n      <td>1</td>\n      <td>2023-06-07 21:01:31.779232</td>\n      <td>糖恋客服-安鱼</td>\n      <td>女</td>\n      <td>19</td>\n      <td>True</td>\n      <td>40</td>\n      <td>False</td>\n      <td>False</td>\n      <td>False</td>\n      <td>False</td>\n    </tr>\n    <tr>\n      <th>1</th>\n      <td>2</td>\n      <td>2023-06-07 21:01:31.779232</td>\n      <td>客服阮-店员推荐</td>\n      <td>女</td>\n      <td>18</td>\n      <td>True</td>\n      <td>40</td>\n      <td>False</td>\n      <td>False</td>\n      <td>False</td>\n      <td>False</td>\n    </tr>\n    <tr>\n      <th>2</th>\n      <td>3</td>\n      <td>2023-06-07 21:01:31.779232</td>\n      <td>Ace.</td>\n      <td>女</td>\n      <td>20</td>\n      <td>True</td>\n      <td>40</td>\n      <td>False</td>\n      <td>False</td>\n      <td>False</td>\n      <td>False</td>\n    </tr>\n    <tr>\n      <th>3</th>\n      <td>4</td>\n      <td>2023-06-07 21:01:31.779232</td>\n      <td>恶毒前妻</td>\n      <td>女</td>\n      <td>23</td>\n      <td>True</td>\n      <td>40</td>\n      <td>False</td>\n      <td>False</td>\n      <td>False</td>\n      <td>False</td>\n    </tr>\n    <tr>\n      <th>4</th>\n      <td>5</td>\n      <td>2023-06-07 21:01:31.779232</td>\n      <td>上杉绘梨衣</td>\n      <td>女</td>\n      <td>20</td>\n      <td>True</td>\n      <td>40</td>\n      <td>False</td>\n      <td>False</td>\n      <td>False</td>\n      <td>False</td>\n    </tr>\n    <tr>\n      <th>...</th>\n      <td>...</td>\n      <td>...</td>\n      <td>...</td>\n      <td>...</td>\n      <td>...</td>\n      <td>...</td>\n      <td>...</td>\n      <td>...</td>\n      <td>...</td>\n      <td>...</td>\n      <td>...</td>\n    </tr>\n    <tr>\n      <th>7585</th>\n      <td>249</td>\n      <td>2023-06-07 23:56:52.174662</td>\n      <td>向阳</td>\n      <td>男</td>\n      <td>21</td>\n      <td>False</td>\n      <td>10</td>\n      <td>True</td>\n      <td>True</td>\n      <td>True</td>\n      <td>True</td>\n    </tr>\n    <tr>\n      <th>7586</th>\n      <td>250</td>\n      <td>2023-06-07 23:56:52.174662</td>\n      <td>朱砂.</td>\n      <td>女</td>\n      <td>26</td>\n      <td>False</td>\n      <td>10</td>\n      <td>True</td>\n      <td>True</td>\n      <td>True</td>\n      <td>True</td>\n    </tr>\n    <tr>\n      <th>7587</th>\n      <td>251</td>\n      <td>2023-06-07 23:56:52.174662</td>\n      <td>初语</td>\n      <td>女</td>\n      <td>24</td>\n      <td>False</td>\n      <td>10</td>\n      <td>False</td>\n      <td>True</td>\n      <td>False</td>\n      <td>False</td>\n    </tr>\n    <tr>\n      <th>7588</th>\n      <td>252</td>\n      <td>2023-06-07 23:56:52.174662</td>\n      <td>魔王</td>\n      <td>女</td>\n      <td>29</td>\n      <td>False</td>\n      <td>10</td>\n      <td>False</td>\n      <td>False</td>\n      <td>False</td>\n      <td>False</td>\n    </tr>\n    <tr>\n      <th>7589</th>\n      <td>253</td>\n      <td>2023-06-07 23:56:52.174662</td>\n      <td>子希</td>\n      <td>男</td>\n      <td>24</td>\n      <td>False</td>\n      <td>10</td>\n      <td>True</td>\n      <td>True</td>\n      <td>False</td>\n      <td>False</td>\n    </tr>\n  </tbody>\n</table>\n<p>7590 rows × 11 columns</p>\n</div>"
     },
     "execution_count": 17,
     "metadata": {},
     "output_type": "execute_result"
    }
   ],
   "source": [
    "df.reset_index()"
   ],
   "metadata": {
    "collapsed": false,
    "ExecuteTime": {
     "start_time": "2023-06-08T03:37:56.748182Z",
     "end_time": "2023-06-08T03:37:56.771685Z"
    }
   }
  },
  {
   "cell_type": "code",
   "execution_count": 12,
   "outputs": [
    {
     "data": {
      "text/plain": "True"
     },
     "execution_count": 12,
     "metadata": {},
     "output_type": "execute_result"
    }
   ],
   "source": [
    "import os\n",
    "\n",
    "os.path.isfile('/Users/colin/Library/Mobile Documents/com~apple~CloudDocs/PycharmProjects/pythonProject/backups/gift-bk')"
   ],
   "metadata": {
    "collapsed": false,
    "ExecuteTime": {
     "start_time": "2023-06-08T04:00:59.794161Z",
     "end_time": "2023-06-08T04:00:59.799034Z"
    }
   }
  },
  {
   "cell_type": "code",
   "execution_count": 15,
   "outputs": [
    {
     "data": {
      "text/plain": "                          Date      Name Sex  Age  Online  Grade   Text  \\\n1   2023-06-08 04:17:14.939054   糖恋客服-安鱼   女   19    True     40  False   \n2   2023-06-08 04:17:14.939054  客服阮-店员推荐   女   18    True     40  False   \n3   2023-06-08 04:17:14.939054         怡   女   52    True     40   True   \n4   2023-06-08 04:17:14.939054     上杉绘梨衣   女   20    True     40   True   \n5   2023-06-08 04:17:14.939054      Ace.   女   20    True     40   True   \n..                         ...       ...  ..  ...     ...    ...    ...   \n249 2023-06-08 04:17:14.939054       朱砂.   女   26   False     10   True   \n250 2023-06-08 04:17:14.939054        初语   女   24   False     10  False   \n251 2023-06-08 04:17:14.939054        魔王   女   29   False     10  False   \n252 2023-06-08 04:17:14.939054       碎叫叫   女   23   False     10   True   \n253 2023-06-08 04:17:14.939054        子希   男   24   False     10   True   \n\n      Call  Video   Game  \n1    False  False  False  \n2    False  False  False  \n3     True   True   True  \n4     True   True   True  \n5     True   True   True  \n..     ...    ...    ...  \n249   True   True   True  \n250   True  False  False  \n251  False  False  False  \n252  False  False  False  \n253   True  False  False  \n\n[253 rows x 10 columns]",
      "text/html": "<div>\n<style scoped>\n    .dataframe tbody tr th:only-of-type {\n        vertical-align: middle;\n    }\n\n    .dataframe tbody tr th {\n        vertical-align: top;\n    }\n\n    .dataframe thead th {\n        text-align: right;\n    }\n</style>\n<table border=\"1\" class=\"dataframe\">\n  <thead>\n    <tr style=\"text-align: right;\">\n      <th></th>\n      <th>Date</th>\n      <th>Name</th>\n      <th>Sex</th>\n      <th>Age</th>\n      <th>Online</th>\n      <th>Grade</th>\n      <th>Text</th>\n      <th>Call</th>\n      <th>Video</th>\n      <th>Game</th>\n    </tr>\n  </thead>\n  <tbody>\n    <tr>\n      <th>1</th>\n      <td>2023-06-08 04:17:14.939054</td>\n      <td>糖恋客服-安鱼</td>\n      <td>女</td>\n      <td>19</td>\n      <td>True</td>\n      <td>40</td>\n      <td>False</td>\n      <td>False</td>\n      <td>False</td>\n      <td>False</td>\n    </tr>\n    <tr>\n      <th>2</th>\n      <td>2023-06-08 04:17:14.939054</td>\n      <td>客服阮-店员推荐</td>\n      <td>女</td>\n      <td>18</td>\n      <td>True</td>\n      <td>40</td>\n      <td>False</td>\n      <td>False</td>\n      <td>False</td>\n      <td>False</td>\n    </tr>\n    <tr>\n      <th>3</th>\n      <td>2023-06-08 04:17:14.939054</td>\n      <td>怡</td>\n      <td>女</td>\n      <td>52</td>\n      <td>True</td>\n      <td>40</td>\n      <td>True</td>\n      <td>True</td>\n      <td>True</td>\n      <td>True</td>\n    </tr>\n    <tr>\n      <th>4</th>\n      <td>2023-06-08 04:17:14.939054</td>\n      <td>上杉绘梨衣</td>\n      <td>女</td>\n      <td>20</td>\n      <td>True</td>\n      <td>40</td>\n      <td>True</td>\n      <td>True</td>\n      <td>True</td>\n      <td>True</td>\n    </tr>\n    <tr>\n      <th>5</th>\n      <td>2023-06-08 04:17:14.939054</td>\n      <td>Ace.</td>\n      <td>女</td>\n      <td>20</td>\n      <td>True</td>\n      <td>40</td>\n      <td>True</td>\n      <td>True</td>\n      <td>True</td>\n      <td>True</td>\n    </tr>\n    <tr>\n      <th>...</th>\n      <td>...</td>\n      <td>...</td>\n      <td>...</td>\n      <td>...</td>\n      <td>...</td>\n      <td>...</td>\n      <td>...</td>\n      <td>...</td>\n      <td>...</td>\n      <td>...</td>\n    </tr>\n    <tr>\n      <th>249</th>\n      <td>2023-06-08 04:17:14.939054</td>\n      <td>朱砂.</td>\n      <td>女</td>\n      <td>26</td>\n      <td>False</td>\n      <td>10</td>\n      <td>True</td>\n      <td>True</td>\n      <td>True</td>\n      <td>True</td>\n    </tr>\n    <tr>\n      <th>250</th>\n      <td>2023-06-08 04:17:14.939054</td>\n      <td>初语</td>\n      <td>女</td>\n      <td>24</td>\n      <td>False</td>\n      <td>10</td>\n      <td>False</td>\n      <td>True</td>\n      <td>False</td>\n      <td>False</td>\n    </tr>\n    <tr>\n      <th>251</th>\n      <td>2023-06-08 04:17:14.939054</td>\n      <td>魔王</td>\n      <td>女</td>\n      <td>29</td>\n      <td>False</td>\n      <td>10</td>\n      <td>False</td>\n      <td>False</td>\n      <td>False</td>\n      <td>False</td>\n    </tr>\n    <tr>\n      <th>252</th>\n      <td>2023-06-08 04:17:14.939054</td>\n      <td>碎叫叫</td>\n      <td>女</td>\n      <td>23</td>\n      <td>False</td>\n      <td>10</td>\n      <td>True</td>\n      <td>False</td>\n      <td>False</td>\n      <td>False</td>\n    </tr>\n    <tr>\n      <th>253</th>\n      <td>2023-06-08 04:17:14.939054</td>\n      <td>子希</td>\n      <td>男</td>\n      <td>24</td>\n      <td>False</td>\n      <td>10</td>\n      <td>True</td>\n      <td>True</td>\n      <td>False</td>\n      <td>False</td>\n    </tr>\n  </tbody>\n</table>\n<p>253 rows × 10 columns</p>\n</div>"
     },
     "execution_count": 15,
     "metadata": {},
     "output_type": "execute_result"
    }
   ],
   "source": [
    "import pandas as pd\n",
    "\n",
    "df = pd.read_parquet('backups/user-bk')\n",
    "df"
   ],
   "metadata": {
    "collapsed": false,
    "ExecuteTime": {
     "start_time": "2023-06-08T04:20:26.975726Z",
     "end_time": "2023-06-08T04:20:26.994529Z"
    }
   }
  },
  {
   "cell_type": "code",
   "execution_count": 17,
   "outputs": [
    {
     "data": {
      "text/plain": "     index                       Date      Name Sex  Age  Online  Grade  \\\n0        1 2023-06-08 04:17:14.939054   糖恋客服-安鱼   女   19    True     40   \n1        2 2023-06-08 04:17:14.939054  客服阮-店员推荐   女   18    True     40   \n2        3 2023-06-08 04:17:14.939054         怡   女   52    True     40   \n3        4 2023-06-08 04:17:14.939054     上杉绘梨衣   女   20    True     40   \n4        5 2023-06-08 04:17:14.939054      Ace.   女   20    True     40   \n..     ...                        ...       ...  ..  ...     ...    ...   \n248    249 2023-06-08 04:17:14.939054       朱砂.   女   26   False     10   \n249    250 2023-06-08 04:17:14.939054        初语   女   24   False     10   \n250    251 2023-06-08 04:17:14.939054        魔王   女   29   False     10   \n251    252 2023-06-08 04:17:14.939054       碎叫叫   女   23   False     10   \n252    253 2023-06-08 04:17:14.939054        子希   男   24   False     10   \n\n      Text   Call  Video   Game  \n0    False  False  False  False  \n1    False  False  False  False  \n2     True   True   True   True  \n3     True   True   True   True  \n4     True   True   True   True  \n..     ...    ...    ...    ...  \n248   True   True   True   True  \n249  False   True  False  False  \n250  False  False  False  False  \n251   True  False  False  False  \n252   True   True  False  False  \n\n[253 rows x 11 columns]",
      "text/html": "<div>\n<style scoped>\n    .dataframe tbody tr th:only-of-type {\n        vertical-align: middle;\n    }\n\n    .dataframe tbody tr th {\n        vertical-align: top;\n    }\n\n    .dataframe thead th {\n        text-align: right;\n    }\n</style>\n<table border=\"1\" class=\"dataframe\">\n  <thead>\n    <tr style=\"text-align: right;\">\n      <th></th>\n      <th>index</th>\n      <th>Date</th>\n      <th>Name</th>\n      <th>Sex</th>\n      <th>Age</th>\n      <th>Online</th>\n      <th>Grade</th>\n      <th>Text</th>\n      <th>Call</th>\n      <th>Video</th>\n      <th>Game</th>\n    </tr>\n  </thead>\n  <tbody>\n    <tr>\n      <th>0</th>\n      <td>1</td>\n      <td>2023-06-08 04:17:14.939054</td>\n      <td>糖恋客服-安鱼</td>\n      <td>女</td>\n      <td>19</td>\n      <td>True</td>\n      <td>40</td>\n      <td>False</td>\n      <td>False</td>\n      <td>False</td>\n      <td>False</td>\n    </tr>\n    <tr>\n      <th>1</th>\n      <td>2</td>\n      <td>2023-06-08 04:17:14.939054</td>\n      <td>客服阮-店员推荐</td>\n      <td>女</td>\n      <td>18</td>\n      <td>True</td>\n      <td>40</td>\n      <td>False</td>\n      <td>False</td>\n      <td>False</td>\n      <td>False</td>\n    </tr>\n    <tr>\n      <th>2</th>\n      <td>3</td>\n      <td>2023-06-08 04:17:14.939054</td>\n      <td>怡</td>\n      <td>女</td>\n      <td>52</td>\n      <td>True</td>\n      <td>40</td>\n      <td>True</td>\n      <td>True</td>\n      <td>True</td>\n      <td>True</td>\n    </tr>\n    <tr>\n      <th>3</th>\n      <td>4</td>\n      <td>2023-06-08 04:17:14.939054</td>\n      <td>上杉绘梨衣</td>\n      <td>女</td>\n      <td>20</td>\n      <td>True</td>\n      <td>40</td>\n      <td>True</td>\n      <td>True</td>\n      <td>True</td>\n      <td>True</td>\n    </tr>\n    <tr>\n      <th>4</th>\n      <td>5</td>\n      <td>2023-06-08 04:17:14.939054</td>\n      <td>Ace.</td>\n      <td>女</td>\n      <td>20</td>\n      <td>True</td>\n      <td>40</td>\n      <td>True</td>\n      <td>True</td>\n      <td>True</td>\n      <td>True</td>\n    </tr>\n    <tr>\n      <th>...</th>\n      <td>...</td>\n      <td>...</td>\n      <td>...</td>\n      <td>...</td>\n      <td>...</td>\n      <td>...</td>\n      <td>...</td>\n      <td>...</td>\n      <td>...</td>\n      <td>...</td>\n      <td>...</td>\n    </tr>\n    <tr>\n      <th>248</th>\n      <td>249</td>\n      <td>2023-06-08 04:17:14.939054</td>\n      <td>朱砂.</td>\n      <td>女</td>\n      <td>26</td>\n      <td>False</td>\n      <td>10</td>\n      <td>True</td>\n      <td>True</td>\n      <td>True</td>\n      <td>True</td>\n    </tr>\n    <tr>\n      <th>249</th>\n      <td>250</td>\n      <td>2023-06-08 04:17:14.939054</td>\n      <td>初语</td>\n      <td>女</td>\n      <td>24</td>\n      <td>False</td>\n      <td>10</td>\n      <td>False</td>\n      <td>True</td>\n      <td>False</td>\n      <td>False</td>\n    </tr>\n    <tr>\n      <th>250</th>\n      <td>251</td>\n      <td>2023-06-08 04:17:14.939054</td>\n      <td>魔王</td>\n      <td>女</td>\n      <td>29</td>\n      <td>False</td>\n      <td>10</td>\n      <td>False</td>\n      <td>False</td>\n      <td>False</td>\n      <td>False</td>\n    </tr>\n    <tr>\n      <th>251</th>\n      <td>252</td>\n      <td>2023-06-08 04:17:14.939054</td>\n      <td>碎叫叫</td>\n      <td>女</td>\n      <td>23</td>\n      <td>False</td>\n      <td>10</td>\n      <td>True</td>\n      <td>False</td>\n      <td>False</td>\n      <td>False</td>\n    </tr>\n    <tr>\n      <th>252</th>\n      <td>253</td>\n      <td>2023-06-08 04:17:14.939054</td>\n      <td>子希</td>\n      <td>男</td>\n      <td>24</td>\n      <td>False</td>\n      <td>10</td>\n      <td>True</td>\n      <td>True</td>\n      <td>False</td>\n      <td>False</td>\n    </tr>\n  </tbody>\n</table>\n<p>253 rows × 11 columns</p>\n</div>"
     },
     "execution_count": 17,
     "metadata": {},
     "output_type": "execute_result"
    }
   ],
   "source": [
    "df.reset_index()"
   ],
   "metadata": {
    "collapsed": false,
    "ExecuteTime": {
     "start_time": "2023-06-08T04:20:39.808023Z",
     "end_time": "2023-06-08T04:20:39.823069Z"
    }
   }
  },
  {
   "cell_type": "code",
   "execution_count": null,
   "outputs": [],
   "source": [],
   "metadata": {
    "collapsed": false
   }
  }
 ],
 "metadata": {
  "kernelspec": {
   "display_name": "Python 3",
   "language": "python",
   "name": "python3"
  },
  "language_info": {
   "codemirror_mode": {
    "name": "ipython",
    "version": 2
   },
   "file_extension": ".py",
   "mimetype": "text/x-python",
   "name": "python",
   "nbconvert_exporter": "python",
   "pygments_lexer": "ipython2",
   "version": "2.7.6"
  }
 },
 "nbformat": 4,
 "nbformat_minor": 0
}
